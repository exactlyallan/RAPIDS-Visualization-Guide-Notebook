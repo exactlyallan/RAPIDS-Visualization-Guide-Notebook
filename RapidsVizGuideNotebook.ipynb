{
 "cells": [
  {
   "cell_type": "markdown",
   "id": "57c640dc-5b87-4dac-9b1b-6857ea8543f3",
   "metadata": {},
   "source": [
    "<img src=\"https://github.com/jupytercon/2020-exactlyallan/raw/master/images/RAPIDS-header-graphic.png\" style=\"width:50%\">\n"
   ]
  },
  {
   "cell_type": "markdown",
   "id": "5f12b672-385e-4586-aff1-3b0eca6c5fd0",
   "metadata": {},
   "source": [
    "# RAPIDS Visualization Guide Notebook\n",
    "### A Streamlined Guide to RAPIDS Accelerated Visualization and Visual Analtyics\n",
    "The guide will walk through using RAPIDS cuDF, cuSpatial, and cuGraph with Holoviews, hvPlot, Datashader, cuxfilter, and Plotly Dash with the publically availble Divvy Bike share dataset. "
   ]
  },
  {
   "cell_type": "markdown",
   "id": "24afd7a0-25c1-47b2-8085-45ff7bc25621",
   "metadata": {
    "tags": []
   },
   "source": [
    "**NOTES and TODO:**\n",
    "-Base on [JupyterCon Notebooks](https://github.com/rapidsai-community/event-notebooks/blob/main/JupyterCon_2020_RAPIDSViz/00%20Index%20and%20Introduction.ipynb) not cuxfilter tutorial\n"
   ]
  },
  {
   "cell_type": "markdown",
   "id": "1b066857-8050-4d13-b104-2515abf79ac3",
   "metadata": {
    "jp-MarkdownHeadingCollapsed": true
   },
   "source": [
    "## Requirements\n",
    "- System that meets the [RAPIDS system and GPU requirements](https://docs.rapids.ai/install#system-req)\n"
   ]
  },
  {
   "cell_type": "markdown",
   "id": "4fe1c86e-a986-4b72-8be2-acc3fa6d6456",
   "metadata": {
    "tags": []
   },
   "source": [
    "## Dependencies\n",
    "Use the below to install all the required dependencies via conda:\n",
    "\n"
   ]
  },
  {
   "cell_type": "code",
   "execution_count": null,
   "id": "0c1f3bef-c71f-496b-99d4-ac00a33001c8",
   "metadata": {
    "tags": []
   },
   "outputs": [],
   "source": [
    "# NOTE: need to user jupyter lab 3.6.4 (4.0 doesnt work with hvplot)\n",
    "\n",
    "# imports\n",
    "import os\n",
    "from zipfile import ZipFile\n",
    "from pathlib import Path\n",
    "\n",
    "import cupy\n",
    "import cartopy  # NOTE: need to include\n",
    "import geoviews  # NOTE: need to include\n",
    "\n",
    "import cudf\n",
    "import cuspatial\n",
    "import cugraph\n",
    "import cuml\n",
    "\n",
    "from bokeh.models import NumeralTickFormatter\n",
    "import hvplot.cudf # NOTE: need to include\n",
    "hvplot.extension('bokeh')\n",
    "import colorcet\n",
    "import panel as pn\n",
    "\n",
    "import cuxfilter\n"
   ]
  },
  {
   "cell_type": "markdown",
   "id": "b146dd4f-ff98-4754-80cb-99ac91a7e8e4",
   "metadata": {},
   "source": [
    "## Load Dataset\n",
    "The dataset can be downloaded from the [Divvy Bike Share public dataset](https://divvybikes.com/system-data). Use the following script to download the desired date range and load it into a dataframe.\n"
   ]
  },
  {
   "cell_type": "code",
   "execution_count": null,
   "id": "bd79769c-6851-4071-b68c-adc95a410d90",
   "metadata": {
    "tags": []
   },
   "outputs": [],
   "source": [
    "# Define the URL of the Divvy trip data and save dir\n",
    "S3 = 'https://divvy-tripdata.s3.amazonaws.com/'\n",
    "DATA_DIR = './data'\n"
   ]
  },
  {
   "cell_type": "code",
   "execution_count": null,
   "id": "d629d330-6271-47dd-8168-f7ada5a8ef26",
   "metadata": {
    "tags": []
   },
   "outputs": [],
   "source": [
    "# Check dir\n",
    "Path(DATA_DIR).mkdir(parents=True, exist_ok=True)\n",
    "'''\n",
    "# Download the zip files from the URL within date range and unzip\n",
    "for year in range(2021, 2023):\n",
    "    for month in range(1, 13):\n",
    "        file = f'{year}{month:02d}-divvy-tripdata.zip'\n",
    "        URL = f'{S3}{file}'\n",
    "        ! wget -P {DATA_DIR} {URL}\n",
    "     \n",
    "        with ZipFile(f'{DATA_DIR}/{file}') as zip:\n",
    "            zip.extractall(f'{DATA_DIR}')\n",
    "'''"
   ]
  },
  {
   "cell_type": "markdown",
   "id": "c934b0cd-0525-421d-aed7-4fd8bd3644af",
   "metadata": {},
   "source": [
    "### cuDF"
   ]
  },
  {
   "cell_type": "code",
   "execution_count": null,
   "id": "7e90bc57-8e33-40fb-8752-5b82672c6374",
   "metadata": {
    "tags": []
   },
   "outputs": [],
   "source": [
    "\n",
    "# Load all csv as dataframes and combine into one cudf\n",
    "df_array = []\n",
    "\n",
    "for file in Path(DATA_DIR).rglob('20*.csv'):\n",
    "    gdf = cudf.read_csv(file)\n",
    "    df_array.append(gdf)\n",
    "\n",
    "df = cudf.concat(df_array)\n",
    "\n",
    "# Check the data\n",
    "df.reset_index()"
   ]
  },
  {
   "cell_type": "markdown",
   "id": "01a6f758-6a82-4d4c-a802-6f4b41490f04",
   "metadata": {},
   "source": [
    "## Check and Clean Data"
   ]
  },
  {
   "cell_type": "markdown",
   "id": "483b8cb2-af3e-4777-a4f4-7b8cece0ab6c",
   "metadata": {},
   "source": [
    "The data seems unreasonabliy clean, but there are still a few things we improve on it. First lets double check the dtypes.\n"
   ]
  },
  {
   "cell_type": "markdown",
   "id": "ef08de04-2f50-4f49-b7b7-06f575251121",
   "metadata": {},
   "source": [
    "Lets check for blanks and nulls first\n"
   ]
  },
  {
   "cell_type": "code",
   "execution_count": null,
   "id": "b82eae3a-db19-4eeb-8926-e98dfaa8500a",
   "metadata": {
    "tags": []
   },
   "outputs": [],
   "source": [
    "df.isnull().sum()\n"
   ]
  },
  {
   "cell_type": "code",
   "execution_count": null,
   "id": "eddedadb-307b-474f-a422-00494f4aebf2",
   "metadata": {
    "tags": []
   },
   "outputs": [],
   "source": [
    "# Filter rows with at least one null value\n",
    "df[df['end_lat'].isnull()]\n"
   ]
  },
  {
   "cell_type": "code",
   "execution_count": null,
   "id": "c1d35079-21f5-4402-8ca6-30d942d300a0",
   "metadata": {
    "tags": []
   },
   "outputs": [],
   "source": [
    "# drop nulls\n",
    "df = df.dropna(subset=['end_lat']).reset_index()\n",
    "df.isnull().sum()"
   ]
  },
  {
   "cell_type": "code",
   "execution_count": null,
   "id": "0b79c776-0b90-4ea3-b91c-110e785e96d8",
   "metadata": {
    "tags": []
   },
   "outputs": [],
   "source": [
    "# Replace null values in 'start_station_id' with 'none'\n",
    "df['start_station_name'] = df['start_station_name'].fillna('none')\n",
    "\n",
    "# Replace null values in 'end_station_id' with 'none'\n",
    "df['end_station_name'] = df['end_station_name'].fillna('none')\n"
   ]
  },
  {
   "cell_type": "code",
   "execution_count": null,
   "id": "36e01f27-e027-41f7-b3d2-3ceee1d2a81f",
   "metadata": {
    "tags": []
   },
   "outputs": [],
   "source": [
    "# Remove any erronus out of area lat lngs\n",
    "min_lat = 41.5\n",
    "max_lat = 42.5\n",
    "min_lng = -88.0\n",
    "max_lng = -87.0\n",
    "\n",
    "df = df[(df['start_lat'] >= min_lat) & (df['start_lat'] <= max_lat) & (df['start_lng'] >= min_lng) & (df['start_lng'] <= max_lng) & \n",
    "                (df['end_lat'] >= min_lat) & (df['end_lat'] <= max_lat) & (df['end_lng'] >= min_lng) & (df['end_lng'] <= max_lng)].reset_index()"
   ]
  },
  {
   "cell_type": "code",
   "execution_count": null,
   "id": "180d34e4-48ee-4fc3-bf3f-a995e2a78f4a",
   "metadata": {},
   "outputs": [],
   "source": [
    "df.dtypes"
   ]
  },
  {
   "cell_type": "markdown",
   "id": "d4e944af-d291-491b-89b3-cd70a7a6be1c",
   "metadata": {},
   "source": [
    "The 'started_at' and 'ended_at' columns should be proper date times types."
   ]
  },
  {
   "cell_type": "code",
   "execution_count": null,
   "id": "2003ee40-ac66-41c5-b23a-98bd984e01ab",
   "metadata": {
    "tags": []
   },
   "outputs": [],
   "source": [
    "df['started_at'] = cudf.to_datetime(df['started_at'])\n",
    "df['ended_at'] = cudf.to_datetime(df['ended_at'])\n",
    "\n",
    "df"
   ]
  },
  {
   "cell_type": "markdown",
   "id": "f5876af1-d74b-481c-a4c4-75a393914cc5",
   "metadata": {
    "tags": []
   },
   "source": [
    "To make things a bit easier lets break out the date and time into sperate columns, assuming we only need to worry about start time."
   ]
  },
  {
   "cell_type": "code",
   "execution_count": null,
   "id": "79dc170a-7d53-4631-8289-4da7d977800f",
   "metadata": {},
   "outputs": [],
   "source": [
    "df['year'] = df['started_at'].dt.year\n",
    "df['month'] = df['started_at'].dt.month\n",
    "df['day'] = df['started_at'].dt.day\n",
    "df['hour'] = df['started_at'].dt.hour\n",
    "\n",
    "df"
   ]
  },
  {
   "cell_type": "markdown",
   "id": "ed8af604-ac32-4a16-a3a5-939a10c4da2e",
   "metadata": {
    "tags": []
   },
   "source": [
    "Extracting out the day of the week would be hepful too."
   ]
  },
  {
   "cell_type": "code",
   "execution_count": null,
   "id": "7764e7d7-e81a-4ed1-b553-9d3b1f5c1f92",
   "metadata": {
    "tags": []
   },
   "outputs": [],
   "source": [
    "df['day_of_week'] = df['started_at'].dt.dayofweek\n",
    "\n",
    "df"
   ]
  },
  {
   "cell_type": "code",
   "execution_count": null,
   "id": "5a3333a3-4e3b-4ac6-8ac7-4d8ad061e43b",
   "metadata": {},
   "outputs": [],
   "source": [
    "rider_type = df.groupby('member_casual').size().rename(\"count\").reset_index()\n",
    "rider_type\n"
   ]
  },
  {
   "cell_type": "markdown",
   "id": "feb21d4d-3f7b-42d7-8777-7ea765d645dd",
   "metadata": {},
   "source": [
    "### hvPlot"
   ]
  },
  {
   "cell_type": "code",
   "execution_count": null,
   "id": "55402bd7-bdfa-432b-9494-37717f4d7c57",
   "metadata": {
    "tags": []
   },
   "outputs": [],
   "source": [
    "rider_type.hvplot.bar(x='member_casual', y='count', title='Total Rider Types', yformatter='%0.0f')"
   ]
  },
  {
   "cell_type": "code",
   "execution_count": null,
   "id": "6377f003-ad07-440a-aac5-f228e1e30323",
   "metadata": {
    "tags": []
   },
   "outputs": [],
   "source": [
    "# DOW = {0:'M', 1:'T', 2:'W', 3:'Th', 4:'F', 5:'Sa', 6:'Su'}\n",
    "\n",
    "day_counts = df.groupby('day_of_week').size().rename('count').reset_index().sort_values('day_of_week')\n",
    "day_counts.hvplot.bar('day_of_week', 'count', title=\"Trip starts per Week Day\", yformatter=\"%0.0f\")\n"
   ]
  },
  {
   "cell_type": "code",
   "execution_count": null,
   "id": "48228be8-06b2-413a-9bd3-f3ad31756900",
   "metadata": {
    "tags": []
   },
   "outputs": [],
   "source": [
    "# calculated duration in min\n",
    "df['dur_min'] = (df['ended_at'] - df['started_at'])\n",
    "df['dur_min'] = (df['dur_min'].dt.seconds / 60).round().astype('float32') #needed for cuML KDE\n",
    "\n",
    "df"
   ]
  },
  {
   "cell_type": "code",
   "execution_count": null,
   "id": "beb66168-3cae-4c0f-b598-91e3cee96a6c",
   "metadata": {
    "tags": []
   },
   "outputs": [],
   "source": [
    "df.hvplot.hist(y='dur_min', bins=20, title=\"Trips Duration Histrogram\", yformatter=\"%0.0f\")"
   ]
  },
  {
   "cell_type": "code",
   "execution_count": null,
   "id": "c066f4eb-47b5-45f0-aed9-8dfd8ac8d4b8",
   "metadata": {
    "tags": []
   },
   "outputs": [],
   "source": [
    "# Do some minor cleanup\n",
    "df = df.drop(['index','ride_id','started_at','ended_at','start_station_id','end_station_id'], axis=1)"
   ]
  },
  {
   "cell_type": "markdown",
   "id": "d25c6441-b1ef-4ef7-9376-1c6c274ed7d8",
   "metadata": {},
   "source": [
    "### cuML + KDE"
   ]
  },
  {
   "cell_type": "code",
   "execution_count": null,
   "id": "fba2b040-9a22-495c-847b-47275f51a141",
   "metadata": {
    "tags": []
   },
   "outputs": [],
   "source": [
    "# CUML KDE\n",
    "\n",
    "# start, end, step size\n",
    "dur_range = cupy.arange(1.0, 200.0, 5.0)\n",
    "\n",
    "kde = cuml.KernelDensity(kernel='gaussian', bandwidth=1).fit(df['dur_min'])\n",
    "\n",
    "log_density_values = kde.score_samples(dur_range)\n",
    "density_values = cupy.exp(log_density_values)\n",
    "\n",
    "density_df = cudf.DataFrame({'duration': dur_range, 'density': density_values})\n",
    "\n",
    "density_df.hvplot.line(x='duration', y='density', xlabel='Data', ylabel='Density', title='Duration in min KDE')\n"
   ]
  },
  {
   "cell_type": "code",
   "execution_count": null,
   "id": "85d3ad4c-1114-43e7-a57c-494923dee7db",
   "metadata": {},
   "outputs": [],
   "source": [
    "df.loc[df['dur_min'].argsort().tail(5)]"
   ]
  },
  {
   "cell_type": "code",
   "execution_count": null,
   "id": "d34c450d-2674-4fb6-ab82-e017afa9847c",
   "metadata": {
    "tags": []
   },
   "outputs": [],
   "source": [
    "trips_by_hour = df.groupby('hour').size().rename('count').reset_index().sort_values('hour')\n",
    "\n",
    "avg_duration_by_hour = df.groupby('hour')['dur_min'].mean().rename('duration_mean').reset_index().sort_values('hour')\n",
    "\n",
    "trips_by_hour.hvplot.bar('hour', 'count', title=\"Trip starts, per hour\", yformatter=\"%0.0f\") + avg_duration_by_hour.hvplot.bar('hour', 'duration_mean', title=\"Trip duration, per hour\", yformatter=\"%0.0f\") "
   ]
  },
  {
   "cell_type": "code",
   "execution_count": null,
   "id": "e435462c-3c86-4dfa-a37d-8e5de30fe8c7",
   "metadata": {
    "tags": []
   },
   "outputs": [],
   "source": [
    "trips_by_hour_300 = df[df['dur_min'] <= 300].groupby('hour').size().rename('count').reset_index().sort_values('hour')\n",
    "\n",
    "avg_duration_by_hour_300 = df[df['dur_min'] <= 300].groupby('hour')['dur_min'].mean().rename('duration_mean').reset_index().sort_values('hour')\n",
    "\n",
    "trips_by_hour_300.hvplot.bar('hour', 'count', title=\"Trip starts, per hour\", yformatter=\"%0.0f\") + avg_duration_by_hour_300.hvplot.bar('hour', 'duration_mean', title=\"Trip duration, per hour\", yformatter=\"%0.0f\") "
   ]
  },
  {
   "cell_type": "code",
   "execution_count": null,
   "id": "543ee621-ca0c-4a90-9bad-2db0dbad856a",
   "metadata": {
    "tags": []
   },
   "outputs": [],
   "source": [
    "# group data by month, day_of_week and hour, count the number of rows in each group\n",
    "heatmap_data_dw = df.groupby(['day_of_week','hour']).size().rename('count').reset_index()\n",
    "heatmap_data_dw.hvplot.heatmap(x='day_of_week', y='hour', C='count') "
   ]
  },
  {
   "cell_type": "code",
   "execution_count": null,
   "id": "dd8d235c-2175-4126-8f98-d2c660b7e280",
   "metadata": {
    "tags": []
   },
   "outputs": [],
   "source": [
    "# group data by month, day_of_week and hour, count the number of rows in each group\n",
    "heatmap_data_dwm = df.groupby(['month','day_of_week','hour']).size().rename('count').reset_index()\n",
    "heatmap_data_dwm.hvplot.heatmap(x='day_of_week', y='hour', C='count', groupby='month', widget_location='left_top')"
   ]
  },
  {
   "cell_type": "code",
   "execution_count": null,
   "id": "193f5c75-e8d5-486d-b104-186579c13549",
   "metadata": {
    "tags": []
   },
   "outputs": [],
   "source": [
    "df.hvplot.hexbin(x='start_lng', y='start_lat', cmap=colorcet.bgy, geo=True, tiles=\"OSM\", logz=False, gridsize=150, width=700, height=600) + df.hvplot.hexbin(x='end_lng', y='end_lat', geo=True, cmap=colorcet.bgy, tiles=\"OSM\", logz=False, gridsize=150, width=700, height=600)"
   ]
  },
  {
   "cell_type": "markdown",
   "id": "dec49594-0122-45d8-9cdb-b49bc8d6d05d",
   "metadata": {},
   "source": [
    "And if you look at their system map, the lat longs seem to be accurate https://account.divvybikes.com/map.\n",
    "But this seems like a lot of start / stop places, lets see if we can identify stations."
   ]
  },
  {
   "cell_type": "code",
   "execution_count": null,
   "id": "a84771ef-1bec-4291-a983-a4f110cafa66",
   "metadata": {
    "tags": []
   },
   "outputs": [],
   "source": [
    "df['start_station_name'].unique()\n"
   ]
  },
  {
   "cell_type": "code",
   "execution_count": null,
   "id": "0cb6079d-a99b-43da-8a96-a59b391c4bd8",
   "metadata": {
    "tags": []
   },
   "outputs": [],
   "source": [
    "df['start_lat'].round(4).unique()\n"
   ]
  },
  {
   "cell_type": "markdown",
   "id": "23db5f33-d78f-437e-a335-2822be248d51",
   "metadata": {
    "tags": []
   },
   "source": [
    "So there are obviously many more starting points than stations, so it must be that the bikes do not have to start and stop at a station. We will have to find a way to bin the start stop locations into a reasonable number."
   ]
  },
  {
   "cell_type": "code",
   "execution_count": null,
   "id": "23cd05a8-d5b7-4925-9dae-8ec4302ecaaf",
   "metadata": {
    "tags": []
   },
   "outputs": [],
   "source": [
    "bike_type = df.groupby('rideable_type').size().rename('count').reset_index()\n",
    "bike_type.hvplot.bar(x='rideable_type', y='count', title='Total Bike Types', yformatter='%0.0f')"
   ]
  },
  {
   "cell_type": "markdown",
   "id": "b04800a0-a1fc-443f-87a2-332e2b0ca6b7",
   "metadata": {},
   "source": [
    "## cuSpatial"
   ]
  },
  {
   "cell_type": "code",
   "execution_count": null,
   "id": "3e287d6a-ee14-49aa-a40e-26091f39cd43",
   "metadata": {
    "tags": []
   },
   "outputs": [],
   "source": [
    "# Create a cuSpatial GeoSeries from the latitude and longitude columns\n",
    "start_points = cuspatial.GeoSeries.from_points_xy(df[['start_lng','start_lat']].interleave_columns().astype(\"float64\"))\n",
    "end_points = cuspatial.GeoSeries.from_points_xy(df[['end_lng','end_lat']].interleave_columns().astype(\"float64\"))\n"
   ]
  },
  {
   "cell_type": "code",
   "execution_count": null,
   "id": "389f4165-b3ca-46d5-a6a3-31091194e1b4",
   "metadata": {
    "tags": []
   },
   "outputs": [],
   "source": [
    "distances_in_km = cuspatial.haversine_distance(start_points, end_points)\n",
    "distances_in_km"
   ]
  },
  {
   "cell_type": "code",
   "execution_count": null,
   "id": "e08d7de7-1449-4a34-9d9a-b16c90d61394",
   "metadata": {
    "tags": []
   },
   "outputs": [],
   "source": [
    "# add the distances back into the dataframe, rounding values to make it more obvious if the stopped at the same place it started\n",
    "dist_m = cudf.Series(distances_in_km).values * 1000\n",
    "df['dist_m'] = dist_m.round().astype('int32')\n",
    "df"
   ]
  },
  {
   "cell_type": "code",
   "execution_count": null,
   "id": "2e97b9b4-9ca8-48dd-a1ad-6e16815788b8",
   "metadata": {
    "tags": []
   },
   "outputs": [],
   "source": [
    "df.hvplot.hist(y='dist_m', by='rideable_type', bins=80, title=\"Trips Distance By Type\", yformatter=\"%0.0f\") + df[df['dist_m'] > 0].hvplot.hist(y='dist_m', by='rideable_type', bins=80, title=\"Trips Distance By Type ( W/O Returns)\", yformatter=\"%0.0f\")"
   ]
  },
  {
   "cell_type": "markdown",
   "id": "48d37dc3-149c-443a-a996-55e5f2bd8bf4",
   "metadata": {},
   "source": [
    "### cuxfilter Crossfilter"
   ]
  },
  {
   "cell_type": "code",
   "execution_count": null,
   "id": "756a0da3-6de6-4c8d-9b38-cae0b99ad660",
   "metadata": {
    "tags": []
   },
   "outputs": [],
   "source": [
    "# FIX-NOTE: adding extension here explicitly RELOADS bokeh and all plots will work\n",
    "hvplot.extension('bokeh')"
   ]
  },
  {
   "cell_type": "code",
   "execution_count": null,
   "id": "0465dc8d-232b-4cd7-a5f8-2ada612b275f",
   "metadata": {
    "tags": []
   },
   "outputs": [],
   "source": [
    "# Specify the charts and widgets to use with the selected columns of data and string maps\n",
    "cux_df = cuxfilter.DataFrame.from_dataframe(df)\n",
    "\n",
    "#creating a label map for days of week strings\n",
    "days_of_week_map = {\n",
    "    0: 'M',\n",
    "    1: 'T',\n",
    "    2: 'W',\n",
    "    3: 'Th',\n",
    "    4: 'F',\n",
    "    5: 'Sa',\n",
    "    6: 'Su',\n",
    "    7: 'Unknown'\n",
    "}\n",
    "\n",
    "\n",
    "charts = [\n",
    "    cuxfilter.charts.bar('day', title='Trips per Day'),\n",
    "    cuxfilter.charts.bar('dist_m', data_points=20 , title='Distance in M'),\n",
    "    cuxfilter.charts.bar('dur_min', data_points=20 , title='Duration in Min'),\n",
    "    cuxfilter.charts.bar('day_of_week', x_label_map=days_of_week_map, title='Day of Week'),\n",
    "    cuxfilter.charts.bar('hour', title='Trips per Hour')\n",
    "]\n",
    "\n",
    "\n",
    "widgets = [\n",
    "            cuxfilter.charts.multi_select('year')\n",
    "            #cuxfilter.charts.multi_select('member_casual'),\n",
    "            #cuxfilter.charts.multi_select('rideable_type')\n",
    "]\n",
    "\n",
    "# Generate the dashboard and select a layout\n",
    "d = cux_df.dashboard(charts, sidebar=widgets, layout=cuxfilter.layouts.feature_and_quad_base, theme=cuxfilter.themes.rapids, title='Bike Trips Dashboard')\n",
    "\n",
    "# Update the yaxis ticker to an easily readable format\n",
    "for i in charts:\n",
    "    if hasattr(i.chart, 'yaxis'):\n",
    "        i.chart.yaxis.formatter = NumeralTickFormatter(format=\"0,0\")\n",
    "\n",
    "\n",
    "\n",
    "# show is for seperate dashboard, await d.preview() is to generate an inline image preview, d.app() shows the app inline\n",
    "d.show()\n"
   ]
  },
  {
   "cell_type": "markdown",
   "id": "2b60801d-cab3-4e6f-98af-c83267ca5c5e",
   "metadata": {},
   "source": [
    "### hvPlot + Datashader + Panel"
   ]
  },
  {
   "cell_type": "code",
   "execution_count": null,
   "id": "5dd20b7f-3d83-4609-a4bd-88e44022b647",
   "metadata": {
    "tags": []
   },
   "outputs": [],
   "source": [
    "start_elec = df[df['rideable_type'] == 'electric_bike'].hvplot.points(x='start_lng', y='start_lat', geo=True, tiles=\"CartoDark\", width=700, height=500, datashade=True, dynspread=True, title=\"electric starts\") \n",
    "end_elec = df[df['rideable_type'] == 'electric_bike'].hvplot.points(x='end_lng', y='end_lat', geo=True, tiles=\"CartoDark\", width=700, height=500, datashade=True, dynspread=True, title=\"electric stops\") \n",
    "elec_row = pn.Row(start_elec, end_elec)\n",
    "elec_row "
   ]
  },
  {
   "cell_type": "code",
   "execution_count": null,
   "id": "e7110bd7-fd56-4b04-a235-7e4699dd9d86",
   "metadata": {
    "tags": []
   },
   "outputs": [],
   "source": [
    "\n",
    "# Get station count\n",
    "start_stations = df[df['end_station_name'] != 'none']\n",
    "unique_stations = start_stations.drop_duplicates(subset='end_station_name')\n"
   ]
  },
  {
   "cell_type": "code",
   "execution_count": null,
   "id": "322633a2-9fad-4f20-a0a6-df53d3c2e828",
   "metadata": {
    "tags": []
   },
   "outputs": [],
   "source": [
    "# Overlay station point with bike points, using end since its more dispersed \n",
    "raster = df.hvplot.points(x='end_lng', y='end_lat', geo=True, tiles='CartoDark', projection=cartopy.crs.GOOGLE_MERCATOR, hover=True, width=700, height=500, rasterize=True) #note: raster does not aggregate with datashader\n",
    "station_points = unique_stations.hvplot.points(x='end_lng', y='end_lat', geo=True, tiles=False, projection=cartopy.crs.GOOGLE_MERCATOR, hover=False, width=700, height=500, color='red', alpha=0.5)\n",
    "\n",
    "raster * station_points"
   ]
  },
  {
   "cell_type": "code",
   "execution_count": null,
   "id": "b3480671-3a56-4840-b7c2-d86732edcff4",
   "metadata": {
    "tags": []
   },
   "outputs": [],
   "source": [
    "# TEMP\n",
    "# save to file\n",
    "df.to_parquet('./data/bike_df_clean.parquet') \n"
   ]
  },
  {
   "cell_type": "markdown",
   "id": "fa42c9cb-5ef1-4f21-8508-ed731b15a853",
   "metadata": {},
   "source": [
    "## cuML + Kmeans"
   ]
  },
  {
   "cell_type": "code",
   "execution_count": null,
   "id": "ca5927f9-1874-44af-8a78-a5c8d5566812",
   "metadata": {
    "tags": []
   },
   "outputs": [],
   "source": [
    "df = cudf.read_parquet('./data/bike_df_clean.parquet')\n",
    "\n",
    "# combine all lat values \n",
    "lat_df = cudf.DataFrame()\n",
    "lat_df['lat'] = cudf.concat([df['start_lat'], df['end_lat']], ignore_index=True)\n",
    "\n",
    "# combine all lng values\n",
    "lng_df = cudf.DataFrame()\n",
    "lng_df['lng'] = cudf.concat([df['start_lng'], df['end_lng']], ignore_index=True)\n",
    "\n",
    "# create combined lat lng \n",
    "combined_lat_lng_df = cudf.concat([lat_df, lng_df], axis=1)\n",
    "\n",
    "combined_lat_lng_df\n"
   ]
  },
  {
   "cell_type": "code",
   "execution_count": null,
   "id": "3c92f936-2412-423b-ab92-3a2280398ad5",
   "metadata": {
    "tags": []
   },
   "outputs": [],
   "source": [
    "# Perform k-means clustering, from the approximate station count with a bit of headroom\n",
    "kmeans = cuml.cluster.KMeans(n_clusters=unique_stations.shape[0]+20, oversampling_factor=1.5, max_iter=200)\n",
    "kmeans.fit(combined_lat_lng_df)\n",
    "\n",
    "# Get the cluster labels\n",
    "cluster_labels = kmeans.labels_\n",
    "\n",
    "cluster_labels"
   ]
  },
  {
   "cell_type": "code",
   "execution_count": null,
   "id": "4cb3fe3b-d4b8-4ad0-b699-bc2a3d807eea",
   "metadata": {
    "tags": []
   },
   "outputs": [],
   "source": [
    "# Get the edge list from the computed clusters\n",
    "half_length = len(cluster_labels) // 2\n",
    "\n",
    "edge_list_df = cudf.DataFrame({\n",
    "    'src': cluster_labels[:half_length].reset_index(drop=True).astype('int16'),\n",
    "    'dst': cluster_labels[half_length:].reset_index(drop=True).astype('int16')\n",
    "})\n",
    "\n",
    "edge_list_df"
   ]
  },
  {
   "cell_type": "code",
   "execution_count": null,
   "id": "02186db2-a000-4c26-8f8b-6a5df6f8df99",
   "metadata": {
    "tags": []
   },
   "outputs": [],
   "source": [
    "# Get the cluster centers or Nodes\n",
    "node_centers_df = kmeans.cluster_centers_\n",
    "\n",
    "node_centers_df = node_centers_df.rename(columns={0: 'node_lat', 1: 'node_lng'}).astype('float32')\n",
    "\n",
    "node_centers_df"
   ]
  },
  {
   "cell_type": "code",
   "execution_count": null,
   "id": "9e3d7916-34ee-4466-aec9-5545b6a3dc9c",
   "metadata": {
    "tags": []
   },
   "outputs": [],
   "source": [
    "# combine\n",
    "df = cudf.concat([df, edge_list_df], axis=1)\n"
   ]
  },
  {
   "cell_type": "code",
   "execution_count": null,
   "id": "0ec39ae8-41d4-4aa8-86f1-6866291d2123",
   "metadata": {
    "tags": []
   },
   "outputs": [],
   "source": [
    "# Verify the clustering worked by overlaying with the previous datashader chart\n",
    "cluster_map = node_centers_df.hvplot.points(x='node_lng', y='node_lat', geo=True, tiles=False, projection=cartopy.crs.GOOGLE_MERCATOR, hover=False, width=800, height=600, color='blue', alpha=0.8)\n",
    "\n",
    "raster * cluster_map * station_points  #Note: only specify geo=True, once otherwise the map tiles overlay the data of the second chart\n",
    "\n",
    "# Note: looks pretty good, within about a 2 block tolerance purple = good "
   ]
  },
  {
   "cell_type": "code",
   "execution_count": null,
   "id": "ec751be2-0f50-4ebc-9df6-33f0985950fa",
   "metadata": {
    "tags": []
   },
   "outputs": [],
   "source": [
    "# save to file\n",
    "df.to_parquet('./data/bike_df_clean.parquet') "
   ]
  },
  {
   "cell_type": "markdown",
   "id": "4cf54a7c-3eca-4446-ab3f-e0589652ef80",
   "metadata": {},
   "source": [
    "## Clean up and Save"
   ]
  },
  {
   "cell_type": "code",
   "execution_count": null,
   "id": "1a6822c6-d010-4719-9d61-9f140915f874",
   "metadata": {
    "tags": []
   },
   "outputs": [],
   "source": [
    "# Starting to get a big messy, lets clean it up\n",
    "df_dur = df['dur_min'].astype('int16')\n",
    "\n",
    "df_geo = df[['start_lat','start_lng','end_lat','end_lng']].astype('float32')\n",
    "df = df.drop(['start_lat','start_lng','end_lat','end_lng','dur_min'], axis=1)\n",
    "df = cudf.concat([df,df_dur,df_geo], axis=1)\n",
    "\n",
    "# check dtypes\n",
    "df.dtypes"
   ]
  },
  {
   "cell_type": "markdown",
   "id": "617f6457-78d6-4a01-bca5-f2e53068acdd",
   "metadata": {},
   "source": [
    "### cuxfilter GeoSpatial"
   ]
  },
  {
   "cell_type": "code",
   "execution_count": null,
   "id": "3601aa0b-8851-4f42-a476-95b8d766900c",
   "metadata": {},
   "outputs": [],
   "source": [
    "from pyproj import Proj, Transformer\n",
    "\n",
    "# Note dont run twice\n",
    "transform_4326_to_3857 = Transformer.from_crs('epsg:4326', 'epsg:3857')\n",
    "\n",
    "df['end_lat'], df['end_lng'] = transform_4326_to_3857.transform(df['end_lat'].values_host, df['end_lng'].values_host)"
   ]
  },
  {
   "cell_type": "code",
   "execution_count": null,
   "id": "6763b191-713a-4812-86a2-81df9eb172d2",
   "metadata": {},
   "outputs": [],
   "source": [
    "G = cugraph.Graph() \n",
    "G.from_cudf_edgelist(edge_list_df, source='src', destination='dst')\n",
    "edges = G.edges()\n"
   ]
  },
  {
   "cell_type": "code",
   "execution_count": null,
   "id": "c9064e71-5452-4020-869d-bdaa95b2da8e",
   "metadata": {},
   "outputs": [],
   "source": [
    "ITERATIONS=600\n",
    "THETA=5.0\n",
    "OPTIMIZE=True\n",
    "\n",
    "# Using the previously created edge list, we calculate the FA2 layout positions here\n",
    "trips_FA_df = cugraph.layout.force_atlas2(G, \n",
    "                    max_iter=ITERATIONS,\n",
    "                    strong_gravity_mode=True,\n",
    "                    outbound_attraction_distribution=False,\n",
    "                    lin_log_mode=False,\n",
    "                    barnes_hut_optimize=OPTIMIZE, \n",
    "                    barnes_hut_theta=THETA,\n",
    "                    verbose=False)\n",
    "\n",
    "trips_FA_df"
   ]
  },
  {
   "cell_type": "code",
   "execution_count": null,
   "id": "a3384449-dea3-438d-a6ec-ea3cc7168e8c",
   "metadata": {
    "tags": []
   },
   "outputs": [],
   "source": [
    "graph_df = trips_FA_df.merge(\n",
    "                df,\n",
    "                left_on='vertex',\n",
    "                right_on='dst',\n",
    "                suffixes=('', '_original'))\n",
    "\n",
    "graph_df"
   ]
  },
  {
   "cell_type": "code",
   "execution_count": null,
   "id": "ea8293fd-f5f9-4b5a-b2a4-4b9e0a9c7a97",
   "metadata": {
    "tags": []
   },
   "outputs": [],
   "source": [
    "# FIX-NOTE: adding extension here explicitly RELOADS bokeh and all plots will work\n",
    "hvplot.extension('bokeh')"
   ]
  },
  {
   "cell_type": "code",
   "execution_count": null,
   "id": "5bcfbd77-3b3f-4085-856e-de7700f1c3d2",
   "metadata": {},
   "outputs": [],
   "source": [
    "# Specifying a graph chart type will use Datashader and its required parameters\n",
    "cx_df = cuxfilter.DataFrame.load_graph((graph_df, edges))\n",
    "\n",
    "graph = cuxfilter.charts.graph(\n",
    "      edge_source='src', \n",
    "      edge_target='dst',\n",
    "      node_x='x',\n",
    "      node_y='y',\n",
    "      unselected_alpha=0.2,\n",
    "      edge_color_palette=['gray', 'black'],\n",
    "      node_pixel_shade_type='linear',\n",
    "      edge_transparency=0.2, \n",
    "      title='ForceAtlas2 Layout Graph'\n",
    "  )\n",
    "\n",
    "scatter = cuxfilter.charts.scatter(\n",
    "        x='end_lat',\n",
    "        y='end_lng',\n",
    "        unselected_alpha=0.1,\n",
    "        pixel_shade_type='eq_hist',\n",
    "        tile_provider='CartoDark', \n",
    "        title='End Locations'\n",
    "    )\n",
    "\n",
    "bar1 = cuxfilter.charts.bar('dur_min', data_points=20 , title='Duration in Min')\n",
    "bar2 = cuxfilter.charts.bar('hour', title='Trips per Hour')\n",
    "bar3 = cuxfilter.charts.bar('day_of_week', title='Day of Week')\n",
    "bar4 = cuxfilter.charts.bar('month', title='Trips per Month')\n",
    "table1 = cuxfilter.charts.view_dataframe(['start_station_name','end_station_name'], drop_duplicates=True)\n",
    "\n",
    "layout_array = [[1,1,1,2,2],\n",
    "                [3,4,5,6,7]]\n",
    "\n",
    "# Generate the dashboard, select a layout and theme\n",
    "d = cx_df.dashboard([graph,scatter,bar1,bar2,bar3,bar4,table1], layout_array=layout_array, theme=cuxfilter.themes.rapids, title='Geospatial Trips')\n",
    "\n",
    "# Update the yaxis ticker to an easily readable format\n",
    "\n",
    "for i in charts:\n",
    "    if hasattr(i.chart, 'yaxis'):\n",
    "        i.chart.yaxis.formatter = NumeralTickFormatter(format=\"%0.0f\")\n",
    "        \n",
    "d.show()\n"
   ]
  },
  {
   "cell_type": "markdown",
   "id": "7ab9962c-e948-44e9-979a-309c358eafc5",
   "metadata": {},
   "source": [
    "### Plotly Dash"
   ]
  },
  {
   "cell_type": "code",
   "execution_count": null,
   "id": "7194ee2d-6f31-499d-93b4-4f92d370c91d",
   "metadata": {},
   "outputs": [],
   "source": []
  },
  {
   "cell_type": "code",
   "execution_count": null,
   "id": "7fe57fab-d1ef-4511-a509-23609dd2cb77",
   "metadata": {},
   "outputs": [],
   "source": [
    "app = JupyterDash(__name__)\n",
    "\n",
    "app.layout = html.Div([\n",
    "    html.Div([\n",
    "        html.H3([\"Divvy Bikeshare Chicago\"]),\n",
    "        html.H5([\"Total Selected Trips:\"]),\n",
    "        dcc.Loading(\n",
    "            dcc.Graph(id = 'number', figure = go.Figure(go.Indicator(mode = \"number\", value = trips.shape[0])),\n",
    "            style = {\n",
    "            'height': '250px'\n",
    "            }),\n",
    "            color = '#b0bec5'\n",
    "        ),\n",
    "        html.H5([\"Day of Week:\"]),\n",
    "        dcc.Dropdown(id = 'day', clearable = False, value = '',\n",
    "            options = [{'label': day_type_map[c],'value': c} for c in day_type_map]\n",
    "        ),\n",
    "        html.H5([\"Time of Day:\"]),\n",
    "        dcc.Dropdown(id = 'time', clearable = False, value = '',\n",
    "            options = [{'label': time_of_day_map[c], 'value': c} for c in time_of_day_map]\n",
    "        )],\n",
    "        style = {\n",
    "            'z-index' : '99',\n",
    "            'position': 'absolute',\n",
    "            'width': '15%',\n",
    "            'height': 'calc(100% - 2em)',\n",
    "            'padding': '1em 2em',\n",
    "            'background-color': '#aabacc',\n",
    "            'color': 'rgb(70, 105, 130)',\n",
    "            'box-shadow': '5px 0px 3px 0px rgba(0,0,0,0.1)'\n",
    "        }\n",
    "    ),\n",
    "    html.Div([\n",
    "        html.Div([\n",
    "            html.H5([\"Station Importance PageRank(Color) by Trips(Size)\"]),\n",
    "            dcc.Graph(id = 'pagerank_plot',\n",
    "                config = {'responsive': True, 'modeBarButtonsToRemove': ['select2d', 'lasso2d']}\n",
    "            )\n",
    "        ],\n",
    "        style = {\n",
    "            'display': 'inline-block',\n",
    "            'width': '100%',\n",
    "            'vertical-align': 'top'\n",
    "        }),\n",
    "        html.Div([\n",
    "            html.H5([\"Total Trips Per Week (2014-2017)\"]),\n",
    "            dcc.Graph(id = 'all_time_week_bar',\n",
    "                config = {'responsive': True, 'modeBarButtonsToRemove': ['zoom2d', 'zoomIn2d', 'zoomOut2d']}\n",
    "            )\n",
    "        ],\n",
    "        style = {\n",
    "            'display': 'inline-block',\n",
    "            'width': '100%'\n",
    "        })\n",
    "    ],\n",
    "    style = {\n",
    "        'width': 'calc(80% - 6em)',\n",
    "        'height': 'auto',\n",
    "        'margin-left': 'calc(15% + 6em)',\n",
    "        'padding-top': '2em',\n",
    "        'display': 'inline-block',\n",
    "        'vertical-align': 'top',\n",
    "        'color': '#aabacc'\n",
    "    })\n",
    "],\n",
    "style = {\n",
    "    'position': 'relative',\n",
    "    'border-bottom': '2px solid #aabacc'\n",
    "})\n"
   ]
  },
  {
   "cell_type": "markdown",
   "id": "f22a3e11-d1fb-4aba-a6e3-165999dd317e",
   "metadata": {
    "tags": []
   },
   "source": [
    "## Define Function to Generate Plots with Plotly Express\n",
    "Next lets define the functions to build our two charts and link them to our data:"
   ]
  },
  {
   "cell_type": "code",
   "execution_count": null,
   "id": "5a183226-1795-4908-91c3-dc81df5c66f8",
   "metadata": {
    "tags": []
   },
   "outputs": [],
   "source": [
    "# Geospatial bubble chart based on Page Rank and Trip data\n",
    "def get_pagerank_plot(data):\n",
    "    df = calculate_page_rank(data).to_pandas()\n",
    "    g = px.scatter_mapbox(df, lat=\"lat\", lon=\"lon\", color=\"pagerank\", size=\"total_trips\",\n",
    "                          hover_data=[\"station_name\"], mapbox_style=\"carto-positron\",\n",
    "                          color_continuous_scale=px.colors.cyclical.Edge_r, size_max=15, zoom=10,\n",
    "                          height=700\n",
    "                         )\n",
    "    g.layout['uirevision'] = True\n",
    "    return g\n",
    "\n",
    "# Bar chart based on total trips over weeks\n",
    "def get_week_bar_chart(data):\n",
    "    all_time_week_df = data.groupby('all_time_week').size().reset_index()\n",
    "    all_time_week_df.columns = ['week', 'trips']\n",
    "    g = px.bar(all_time_week_df.to_pandas(), \n",
    "               x=\"week\", y='trips', template=dict(layout={'selectdirection': 'h',}), \n",
    "               height=300\n",
    "              )\n",
    "    g.layout['dragmode']='select'\n",
    "    g.layout['uirevision'] = True\n",
    "    return g"
   ]
  },
  {
   "cell_type": "markdown",
   "id": "3c2cd687-3560-4c53-8b66-9775c8b129cb",
   "metadata": {
    "tags": []
   },
   "source": [
    "## Define Function to Calculate Page Rank\n",
    "Because Plotly Dash applications are hosted through a python backend, the web based charts are able to call custom python functions. Lets use this feature and the speed of cuGraph to calculate new PageRank scores base on a user's selection:"
   ]
  },
  {
   "cell_type": "code",
   "execution_count": null,
   "id": "dce9fab8-e290-4de4-85d2-94c64feb308e",
   "metadata": {},
   "outputs": [],
   "source": [
    "def calculate_page_rank(data):\n",
    "    G = cugraph.Graph()\n",
    "    G.from_cudf_edgelist(data, source='from_station_id', destination='to_station_id')\n",
    "    data_page = cugraph.pagerank(G)\n",
    "    return data_page.merge(stations, left_on='vertex', right_on='station_id').drop(columns=['vertex'])"
   ]
  },
  {
   "cell_type": "markdown",
   "id": "f0986b87-a95b-4172-903d-b7fbf35c442e",
   "metadata": {},
   "source": [
    "## Define Events and Callbacks\n",
    "Here we define what happens when a user interacts with chart selections through [Dash callbacks](https://dash.plotly.com/basic-callbacks):"
   ]
  },
  {
   "cell_type": "code",
   "execution_count": null,
   "id": "2fbc579c-57ae-445b-bca5-029a6245a73e",
   "metadata": {},
   "outputs": [],
   "source": [
    "def bar_selection_to_query(selection, column):\n",
    "    \"\"\"\n",
    "    Compute pandas query expression string for selection callback data\n",
    "    Args:\n",
    "        selection: selectedData dictionary from Dash callback on a bar trace\n",
    "        column: Name of the column that the selected bar chart is based on\n",
    "    Returns:\n",
    "        String containing a query expression compatible with DataFrame.query. This\n",
    "        expression will filter the input DataFrame to contain only those rows that\n",
    "        are contained in the selection.\n",
    "    \"\"\"\n",
    "    point_inds = [p['label'] for p in selection['points']]\n",
    "    xmin = min(point_inds)  # bin_edges[min(point_inds)]\n",
    "    xmax = max(point_inds) + 1  # bin_edges[max(point_inds) + 1]\n",
    "    xmin_op = \"<=\"\n",
    "    xmax_op = \"<=\"\n",
    "    return f\"{xmin} {xmin_op} {column} and {column} {xmax_op} {xmax}\"\n",
    "\n",
    "# Define callback to update graph, id ties plot code to layout\n",
    "@app.callback(\n",
    "    [\n",
    "        Output('pagerank_plot', 'figure'),\n",
    "        Output('all_time_week_bar', 'figure'),\n",
    "        Output('number', 'figure')\n",
    "    ],\n",
    "    [\n",
    "        Input(\"day\", \"value\"), Input(\"time\", \"value\"),\n",
    "        Input(\"all_time_week_bar\", \"selectedData\")\n",
    "    ]\n",
    ")\n",
    "def update_figure(day, time, selected_weeks):\n",
    "    query = ['day_type == '+str(day) if day != \"\" else \"\", 'time_of_day =='+str(time) if time != \"\" else \"\"]\n",
    "    query_str = ' and '.join([x for x in query if x != \"\"])\n",
    "    \n",
    "    data = trips\n",
    "    if len(query_str) > 0:\n",
    "        data = trips.query(query_str)\n",
    "\n",
    "    week_bar_chart = get_week_bar_chart(data)\n",
    "    \n",
    "    if selected_weeks is not None:\n",
    "        query.append(bar_selection_to_query(selected_weeks, 'all_time_week'))\n",
    "        query_str = ' and '.join([x for x in query if x != \"\"])\n",
    "        if len(query) > 0:\n",
    "            data = trips.query(query_str)\n",
    "    \n",
    "    pagerank_plot = get_pagerank_plot(data)\n",
    "    \n",
    "    number = go.Figure(go.Indicator(\n",
    "                mode=\"number\",\n",
    "                value=data.shape[0]\n",
    "            ))\n",
    "\n",
    "    return pagerank_plot, week_bar_chart, number"
   ]
  },
  {
   "cell_type": "markdown",
   "id": "8e42d471-df9f-4fc0-a88e-2441bce0e325",
   "metadata": {},
   "source": [
    "## Start the Plotly Dash Visualization\n",
    "Now that we have defined everything, lets run the application:"
   ]
  },
  {
   "cell_type": "code",
   "execution_count": null,
   "id": "15ddeff2-eff7-46ec-9903-240520ff7df9",
   "metadata": {
    "jupyter": {
     "source_hidden": true
    },
    "tags": []
   },
   "outputs": [],
   "source": [
    "# NOTE: If you are running in a JupyterHub environment, run the below command:\n",
    "# JupyterDash.infer_jupyter_proxy_config()\n",
    "\n",
    "# NOTE: For Jupyterlab run: \n",
    "# app.run_server(mode=\"jupyterlab\")\n",
    "\n",
    "# NOTE: To run inline with a notebook (NOT recommended): \n",
    "# app.run_server(mode=\"inline\")\n",
    "\n",
    "# NOTE: To run as seperate tab run then click on the link (recommended):\n",
    "app.run_server(debug=False)\n"
   ]
  },
  {
   "cell_type": "markdown",
   "id": "55c6d356-4bf5-457c-8e27-a84d08a189b1",
   "metadata": {
    "editable": true,
    "slideshow": {
     "slide_type": ""
    },
    "tags": []
   },
   "source": [
    "## To Do Outline\n",
    "- cuxfilter FA graph w/ end points \n",
    "- cuGraph PageRank leave, PageRank arrive\n",
    "- Add Plotly Dash chart\n",
    "\n",
    "Issues:\n",
    "- juplyter lab needs to be 3.6.4\n",
    "- FIX: use latest cuxfilter so can filter by string category\n",
    "- FIX: cuxfilter / hvplot bokeh.js assets bug\n",
    "- Issue: graph OOMing somehow (bug in cuxfilter percision) + optimzied node / edges with unique"
   ]
  },
  {
   "cell_type": "markdown",
   "id": "fde82297-3de3-4f6f-a7b4-a69d7fd6ddf5",
   "metadata": {},
   "source": [
    "## Conclusion"
   ]
  },
  {
   "cell_type": "code",
   "execution_count": null,
   "id": "f6b75d5c-2c02-4f6f-82af-de5b4edd9437",
   "metadata": {},
   "outputs": [],
   "source": []
  }
 ],
 "metadata": {
  "kernelspec": {
   "display_name": "Python 3 (ipykernel)",
   "language": "python",
   "name": "python3"
  },
  "language_info": {
   "codemirror_mode": {
    "name": "ipython",
    "version": 3
   },
   "file_extension": ".py",
   "mimetype": "text/x-python",
   "name": "python",
   "nbconvert_exporter": "python",
   "pygments_lexer": "ipython3",
   "version": "3.10.11"
  }
 },
 "nbformat": 4,
 "nbformat_minor": 5
}
