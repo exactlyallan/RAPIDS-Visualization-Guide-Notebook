{
 "cells": [
  {
   "cell_type": "markdown",
   "id": "57c640dc-5b87-4dac-9b1b-6857ea8543f3",
   "metadata": {},
   "source": [
    "<img src=\"https://github.com/jupytercon/2020-exactlyallan/raw/master/images/RAPIDS-header-graphic.png\" style=\"width:50%\">\n"
   ]
  },
  {
   "cell_type": "markdown",
   "id": "5f12b672-385e-4586-aff1-3b0eca6c5fd0",
   "metadata": {},
   "source": [
    "# RAPIDS Visualization Guide Notebook\n",
    "### A Streamlined Guide to RAPIDS Accelerated Visualization and Visual Analtyics\n",
    "The guide will walk through using RAPIDS cuDF, cuSpatial, and cuGraph with Holoviews, hvPlot, Datashader, cuxfilter, and Plotly Dash with the publically availble Divvy Bike share dataset. "
   ]
  },
  {
   "cell_type": "markdown",
   "id": "24afd7a0-25c1-47b2-8085-45ff7bc25621",
   "metadata": {
    "tags": []
   },
   "source": [
    "**NOTES and TODO:**\n",
    "-Base on [JupyterCon Notebooks](https://github.com/rapidsai-community/event-notebooks/blob/main/JupyterCon_2020_RAPIDSViz/00%20Index%20and%20Introduction.ipynb) not cuxfilter tutorial\n"
   ]
  },
  {
   "cell_type": "markdown",
   "id": "1b066857-8050-4d13-b104-2515abf79ac3",
   "metadata": {},
   "source": [
    "## Requirements\n",
    "- System that meets the [RAPIDS system and GPU requirements](https://docs.rapids.ai/install#system-req)\n"
   ]
  },
  {
   "cell_type": "markdown",
   "id": "4fe1c86e-a986-4b72-8be2-acc3fa6d6456",
   "metadata": {
    "tags": []
   },
   "source": [
    "## Dependencies\n",
    "Use the below to install all the required dependencies via conda:\n",
    "\n",
    "channels:\n",
    "- rapidsai\n",
    "- nvidia\n",
    "- pyviz\n",
    "- conda-forge\n",
    "- plotly\n",
    "- anaconda\n",
    "\n",
    "dependencies:\n",
    "- cuxfilter>=23.02\n",
    "- cudf>=23.02\n",
    "- cuspatial>=23.02\n",
    "- cugraph>=23.02\n",
    "- cudatoolkit=11.8\n",
    "- python>=3.10\n",
    "- plotly\n",
    "- dash-core-components\n",
    "- dash-html-components\n",
    "- jupyter-dash\n",
    "- jupyterlab\n",
    "- jupyter-server-proxy\n",
    "- holoviews\n",
    "- hvplot\n",
    "- geoviews\n",
    "- cartopy\n",
    "- networkx"
   ]
  },
  {
   "cell_type": "code",
   "execution_count": null,
   "id": "0c1f3bef-c71f-496b-99d4-ac00a33001c8",
   "metadata": {
    "tags": []
   },
   "outputs": [],
   "source": [
    "# imports\n",
    "import os\n",
    "from zipfile import ZipFile\n",
    "from pathlib import Path\n",
    "\n",
    "import cudf\n",
    "import hvplot.cudf\n",
    "import cuspatial\n",
    "import cugraph\n",
    "import cuml\n"
   ]
  },
  {
   "cell_type": "markdown",
   "id": "b146dd4f-ff98-4754-80cb-99ac91a7e8e4",
   "metadata": {},
   "source": [
    "## Dataset\n",
    "The dataset can be downloaded from the [Divvy Bike Share public dataset](https://divvybikes.com/system-data). Use the following script to download the desired date range and load it into a dataframe.\n"
   ]
  },
  {
   "cell_type": "code",
   "execution_count": null,
   "id": "bd79769c-6851-4071-b68c-adc95a410d90",
   "metadata": {
    "tags": []
   },
   "outputs": [],
   "source": [
    "# Define the URL of the Divvy trip data and save dir\n",
    "S3 = 'https://divvy-tripdata.s3.amazonaws.com/'\n",
    "DATA_DIR = './data'\n"
   ]
  },
  {
   "cell_type": "code",
   "execution_count": null,
   "id": "d629d330-6271-47dd-8168-f7ada5a8ef26",
   "metadata": {
    "tags": []
   },
   "outputs": [],
   "source": [
    "# Check dir\n",
    "Path(DATA_DIR).mkdir(parents=True, exist_ok=True)\n",
    "\n",
    "# Download the zip files from the URL within date range and unzip\n",
    "for year in range(2021, 2022):\n",
    "    for month in range(1, 3):\n",
    "        file = f'{year}{month:02d}-divvy-tripdata.zip'\n",
    "        URL = f'{S3}{file}'\n",
    "        ! wget -P {DATA_DIR} {URL}\n",
    "     \n",
    "        with zipfile.ZipFile(f'{DATA_DIR}/{file}') as zip:\n",
    "            zip.extractall(f'{DATA_DIR}')\n",
    "            "
   ]
  },
  {
   "cell_type": "code",
   "execution_count": null,
   "id": "7e90bc57-8e33-40fb-8752-5b82672c6374",
   "metadata": {
    "tags": []
   },
   "outputs": [],
   "source": [
    "# Load all csv as dataframes and combine into one cudf\n",
    "df_array = []\n",
    "\n",
    "for file in Path(DATA_DIR).rglob('*.csv'):\n",
    "    gdf = cudf.read_csv(file)\n",
    "    df_array.append(gdf)\n",
    "\n",
    "df = cudf.concat(df_array)\n",
    "\n",
    "# Check the data\n",
    "df"
   ]
  },
  {
   "cell_type": "markdown",
   "id": "483b8cb2-af3e-4777-a4f4-7b8cece0ab6c",
   "metadata": {},
   "source": [
    "The data seems unreasonabliy clean, but there are still a few things we improve on it. First lets double check the dtypes.\n"
   ]
  },
  {
   "cell_type": "markdown",
   "id": "ef08de04-2f50-4f49-b7b7-06f575251121",
   "metadata": {},
   "source": [
    "Lets check for blanks and nulls first\n"
   ]
  },
  {
   "cell_type": "code",
   "execution_count": null,
   "id": "b82eae3a-db19-4eeb-8926-e98dfaa8500a",
   "metadata": {
    "tags": []
   },
   "outputs": [],
   "source": [
    "df.isnull().sum()\n"
   ]
  },
  {
   "cell_type": "code",
   "execution_count": null,
   "id": "eddedadb-307b-474f-a422-00494f4aebf2",
   "metadata": {
    "tags": []
   },
   "outputs": [],
   "source": [
    "# Filter rows with at least one null value\n",
    "df[df['end_lat'].isnull()]\n"
   ]
  },
  {
   "cell_type": "code",
   "execution_count": null,
   "id": "c1d35079-21f5-4402-8ca6-30d942d300a0",
   "metadata": {
    "tags": []
   },
   "outputs": [],
   "source": [
    "# drop nulls\n",
    "df = df.dropna(subset=['end_lat'])\n",
    "df.isnull().sum()"
   ]
  },
  {
   "cell_type": "code",
   "execution_count": null,
   "id": "180d34e4-48ee-4fc3-bf3f-a995e2a78f4a",
   "metadata": {},
   "outputs": [],
   "source": [
    "df.dtypes"
   ]
  },
  {
   "cell_type": "markdown",
   "id": "d4e944af-d291-491b-89b3-cd70a7a6be1c",
   "metadata": {},
   "source": [
    "The 'started_at' and 'ended_at' columns should be proper date times types."
   ]
  },
  {
   "cell_type": "code",
   "execution_count": null,
   "id": "2003ee40-ac66-41c5-b23a-98bd984e01ab",
   "metadata": {
    "tags": []
   },
   "outputs": [],
   "source": [
    "df['started_at'] = cudf.to_datetime(df['started_at'])\n",
    "df['ended_at'] = cudf.to_datetime(df['ended_at'])\n",
    "\n",
    "df.dtypes"
   ]
  },
  {
   "cell_type": "markdown",
   "id": "f5876af1-d74b-481c-a4c4-75a393914cc5",
   "metadata": {
    "tags": []
   },
   "source": [
    "To make things a bit easier lets break out the date and time into sperate columns, assuming we only need to worry about start time."
   ]
  },
  {
   "cell_type": "code",
   "execution_count": null,
   "id": "79dc170a-7d53-4631-8289-4da7d977800f",
   "metadata": {},
   "outputs": [],
   "source": [
    "df['year'] = df['started_at'].dt.year\n",
    "df['month'] = df['started_at'].dt.month\n",
    "df['day'] = df['started_at'].dt.day\n",
    "df['hour'] = df['started_at'].dt.hour\n",
    "\n",
    "df"
   ]
  },
  {
   "cell_type": "markdown",
   "id": "783ecbda-d81a-415a-9a44-e414f78e8bff",
   "metadata": {
    "tags": []
   },
   "source": [
    "Finding the duration of each trip would also be a helpful metric."
   ]
  },
  {
   "cell_type": "code",
   "execution_count": null,
   "id": "48228be8-06b2-413a-9bd3-f3ad31756900",
   "metadata": {
    "tags": []
   },
   "outputs": [],
   "source": [
    "df['duration_min'] = (df['ended_at'] - df['started_at'])\n",
    "\n",
    "df['duration_min'] = df['duration_min'].dt.seconds / 60\n",
    "\n",
    "df\n"
   ]
  },
  {
   "cell_type": "markdown",
   "id": "ed8af604-ac32-4a16-a3a5-939a10c4da2e",
   "metadata": {
    "tags": []
   },
   "source": [
    "Extracting out the day of the week would be hepful too."
   ]
  },
  {
   "cell_type": "code",
   "execution_count": null,
   "id": "7764e7d7-e81a-4ed1-b553-9d3b1f5c1f92",
   "metadata": {
    "tags": []
   },
   "outputs": [],
   "source": [
    "df['day_of_week'] = df['started_at'].dt.dayofweek\n",
    "\n",
    "df"
   ]
  },
  {
   "cell_type": "code",
   "execution_count": null,
   "id": "5a3333a3-4e3b-4ac6-8ac7-4d8ad061e43b",
   "metadata": {},
   "outputs": [],
   "source": [
    "rider_type = df.groupby('member_casual').size().rename(\"count\").reset_index()\n",
    "rider_type\n"
   ]
  },
  {
   "cell_type": "markdown",
   "id": "29e02dc0-b0d5-481e-8f6e-6f9640ca26bb",
   "metadata": {},
   "source": [
    "## A Note on Preattentive Attributes\n",
    "This subconcious ability to quickly recognize patterns is due to our brain's natural ability to find preattentive attributes, such as height, orientation, or color. Imagine 100 values in a table and 100 in a bar chart and how quickly you would be albe to find the smallest and largest values in either."
   ]
  },
  {
   "cell_type": "code",
   "execution_count": null,
   "id": "55402bd7-bdfa-432b-9494-37717f4d7c57",
   "metadata": {
    "tags": []
   },
   "outputs": [],
   "source": [
    "rider_type.hvplot.bar(x='member_casual', y='count', title='Total Rider Types', yformatter='%0.0f')"
   ]
  },
  {
   "cell_type": "code",
   "execution_count": null,
   "id": "f865814f-bd3a-403b-bf3c-f6695b77c08d",
   "metadata": {},
   "outputs": [],
   "source": [
    "hour_counts = df.groupby('hour').size().rename('count').reset_index()\n",
    "hour_counts.hvplot.bar('hour', 'count', title=\"Trip starts, per hour\", yformatter=\"%0.0f\")"
   ]
  },
  {
   "cell_type": "code",
   "execution_count": null,
   "id": "6377f003-ad07-440a-aac5-f228e1e30323",
   "metadata": {
    "tags": []
   },
   "outputs": [],
   "source": [
    "# DOW = {0:'M', 1:'T', 2:'W', 3:'Th', 4:'F', 5:'Sa', 6:'Su'}\n",
    "\n",
    "day_counts = df.groupby('day_of_week').size().rename('count').reset_index().sort_values('day_of_week')\n",
    "day_counts.hvplot.bar('day_of_week', 'count', title=\"Trip starts per Week Day\", yformatter=\"%0.0f\")"
   ]
  },
  {
   "cell_type": "code",
   "execution_count": null,
   "id": "beb66168-3cae-4c0f-b598-91e3cee96a6c",
   "metadata": {
    "tags": []
   },
   "outputs": [],
   "source": [
    "df.hvplot.hist(y='duration_min', bins=120, title=\"Trips Duration Histrogram\", yformatter=\"%0.0f\")"
   ]
  },
  {
   "cell_type": "code",
   "execution_count": null,
   "id": "543ee621-ca0c-4a90-9bad-2db0dbad856a",
   "metadata": {
    "tags": []
   },
   "outputs": [],
   "source": [
    "# group data by day_of_week and hour, count the number of rows in each group\n",
    "heatmap_data = df.groupby(['day_of_week','hour']).size().rename(\"count\").reset_index().sort_values('hour')\n",
    "heatmap_data\n",
    "\n",
    "\n",
    "heatmap_data.hvplot.heatmap(x='day_of_week', y='hour', C='count')"
   ]
  },
  {
   "cell_type": "code",
   "execution_count": null,
   "id": "193f5c75-e8d5-486d-b104-186579c13549",
   "metadata": {
    "tags": []
   },
   "outputs": [],
   "source": [
    "df.hvplot.hexbin(x='start_lng', y='start_lat', geo=True, tiles=\"OSM\", logz=False, gridsize=150, width=800, height=600)"
   ]
  },
  {
   "cell_type": "code",
   "execution_count": null,
   "id": "d7dece35-9d83-406e-bcb4-5dbefd058129",
   "metadata": {
    "tags": []
   },
   "outputs": [],
   "source": [
    "df.hvplot.hexbin(x='end_lng', y='end_lat', geo=True, tiles=\"OSM\", logz=False, gridsize=150, width=800, height=600)"
   ]
  },
  {
   "cell_type": "markdown",
   "id": "dec49594-0122-45d8-9cdb-b49bc8d6d05d",
   "metadata": {},
   "source": [
    "And if you look at their system map, the lat longs seem to be accurate https://account.divvybikes.com/map.\n",
    "But this seems like a lot of start / stop places, lets see if we can identify stations."
   ]
  },
  {
   "cell_type": "code",
   "execution_count": null,
   "id": "a84771ef-1bec-4291-a983-a4f110cafa66",
   "metadata": {
    "tags": []
   },
   "outputs": [],
   "source": [
    "unique_station_ids = df['start_station_id'].unique()\n",
    "unique_station_ids\n"
   ]
  },
  {
   "cell_type": "code",
   "execution_count": null,
   "id": "0cb6079d-a99b-43da-8a96-a59b391c4bd8",
   "metadata": {
    "tags": []
   },
   "outputs": [],
   "source": [
    "unique_starts = df['start_lat'].unique()\n",
    "unique_starts"
   ]
  },
  {
   "cell_type": "markdown",
   "id": "23db5f33-d78f-437e-a335-2822be248d51",
   "metadata": {
    "tags": []
   },
   "source": [
    "So there are obviously many more starting points than stations, so it must be that the bikes do not have to start and stop at a station. We will have to find a way to bin the start stop locations into a reasonable number."
   ]
  },
  {
   "cell_type": "code",
   "execution_count": null,
   "id": "3e287d6a-ee14-49aa-a40e-26091f39cd43",
   "metadata": {
    "tags": []
   },
   "outputs": [],
   "source": [
    "# Create a cuSpatial GeoSeries from the latitude and longitude columns\n",
    "start_points = cuspatial.GeoSeries.from_points_xy(df[['start_lng','start_lat']].interleave_columns().astype(\"float64\"))\n",
    "end_points = cuspatial.GeoSeries.from_points_xy(df[['end_lng','end_lat']].interleave_columns().astype(\"float64\"))\n",
    "# Print the cuSpatial GeoSeries\n",
    "print(points)"
   ]
  },
  {
   "cell_type": "code",
   "execution_count": null,
   "id": "389f4165-b3ca-46d5-a6a3-31091194e1b4",
   "metadata": {
    "tags": []
   },
   "outputs": [],
   "source": [
    "distances_in_km = cuspatial.haversine_distance(start_points, end_points)\n",
    "distances_in_km"
   ]
  },
  {
   "cell_type": "code",
   "execution_count": null,
   "id": "e08d7de7-1449-4a34-9d9a-b16c90d61394",
   "metadata": {
    "tags": []
   },
   "outputs": [],
   "source": [
    "# add the distances back into the dataframe, rounding values to make it more obvious if the stopped at the same place it started\n",
    "df['dist_km'] = cudf.Series(distances_in_km).values.round(4)\n",
    "df"
   ]
  },
  {
   "cell_type": "code",
   "execution_count": null,
   "id": "73e9bf03-6a3a-4c50-b84f-6541dff36ca8",
   "metadata": {
    "tags": []
   },
   "outputs": [],
   "source": [
    "#df.hvplot.points('start_lng','start_lat', geo=True, color='blue', alpha=0.2, xlim=(-86, -88), ylim=(40, 42), tiles='OSM', width=800, height=800)"
   ]
  },
  {
   "cell_type": "markdown",
   "id": "55c6d356-4bf5-457c-8e27-a84d08a189b1",
   "metadata": {},
   "source": [
    "## Outline\n",
    "- cuSpatial to create Grid for start - stop nodes (in leu of stations)\n",
    "- cuML linear regression?\n",
    "- Cuxfilter (day, week, hour, type, map) - start to stop graph\n",
    "- cuGraph PageRank leave, PageRank arrive"
   ]
  },
  {
   "cell_type": "code",
   "execution_count": null,
   "id": "0ff2c81f-8b8c-40a0-9be1-6324253f8bc0",
   "metadata": {},
   "outputs": [],
   "source": []
  }
 ],
 "metadata": {
  "kernelspec": {
   "display_name": "Python 3 (ipykernel)",
   "language": "python",
   "name": "python3"
  },
  "language_info": {
   "codemirror_mode": {
    "name": "ipython",
    "version": 3
   },
   "file_extension": ".py",
   "mimetype": "text/x-python",
   "name": "python",
   "nbconvert_exporter": "python",
   "pygments_lexer": "ipython3",
   "version": "3.10.10"
  }
 },
 "nbformat": 4,
 "nbformat_minor": 5
}
