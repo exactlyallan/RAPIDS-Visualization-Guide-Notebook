{
 "cells": [
  {
   "cell_type": "markdown",
   "id": "57c640dc-5b87-4dac-9b1b-6857ea8543f3",
   "metadata": {},
   "source": [
    "<img src=\"https://github.com/jupytercon/2020-exactlyallan/raw/master/images/RAPIDS-header-graphic.png\" style=\"width:50%\">\n"
   ]
  },
  {
   "cell_type": "markdown",
   "id": "5f12b672-385e-4586-aff1-3b0eca6c5fd0",
   "metadata": {},
   "source": [
    "# RAPIDS Visualization Guide Notebook\n",
    "### A Streamlined Guide to RAPIDS Accelerated Visualization and Visual Analtyics\n",
    "The guide will walk through using RAPIDS cuDF, cuSpatial, cuML, and cuGraph with hvPlot, Datashader, cuxfilter, and Plotly Dash with the publicly available [Divvy Bike share dataset](https://divvybikes.com/system-data)."
   ]
  },
  {
   "cell_type": "markdown",
   "id": "1b066857-8050-4d13-b104-2515abf79ac3",
   "metadata": {
    "jp-MarkdownHeadingCollapsed": true
   },
   "source": [
    "## Requirements\n",
    "- System that meets the [RAPIDS system and GPU requirements](https://docs.rapids.ai/install#system-req)\n",
    "- "
   ]
  },
  {
   "cell_type": "markdown",
   "id": "4fe1c86e-a986-4b72-8be2-acc3fa6d6456",
   "metadata": {
    "tags": []
   },
   "source": [
    "## Dependencies\n",
    "Use the below to install all the required dependencies via conda:\n",
    "\n"
   ]
  },
  {
   "cell_type": "code",
   "execution_count": null,
   "id": "0c1f3bef-c71f-496b-99d4-ac00a33001c8",
   "metadata": {
    "tags": []
   },
   "outputs": [],
   "source": [
    "# NOTE: Jupyter lab 3.6.4 and RAPIDS 23.06\n",
    "\n",
    "# imports\n",
    "import os\n",
    "from zipfile import ZipFile\n",
    "from pathlib import Path\n",
    "import math\n",
    "\n",
    "# rapids\n",
    "import cudf\n",
    "import cuspatial\n",
    "import cugraph\n",
    "import cuml\n",
    "import cuxfilter\n",
    "import cupy\n",
    "\n",
    "# holoviz\n",
    "from bokeh.models import NumeralTickFormatter\n",
    "import hvplot.cudf \n",
    "hvplot.extension('bokeh')\n",
    "import colorcet\n",
    "import panel as pn\n",
    "import geoviews\n",
    "import cartopy\n",
    "\n",
    "# plotly\n",
    "import plotly.graph_objects as go\n",
    "import plotly.express as px\n",
    "from jupyter_dash import JupyterDash\n",
    "from dash import Dash, html, dcc, callback, Output, Input\n",
    "from dash.exceptions import PreventUpdate\n",
    "\n"
   ]
  },
  {
   "cell_type": "markdown",
   "id": "b146dd4f-ff98-4754-80cb-99ac91a7e8e4",
   "metadata": {},
   "source": [
    "## Load Dataset\n",
    "The dataset can be downloaded from the [Divvy Bike Share public dataset](https://divvybikes.com/system-data). Use the following script to download the desired date range and load it into a dataframe.\n"
   ]
  },
  {
   "cell_type": "code",
   "execution_count": null,
   "id": "bd79769c-6851-4071-b68c-adc95a410d90",
   "metadata": {
    "tags": []
   },
   "outputs": [],
   "source": [
    "# Define the URL of the Divvy trip data and save dir\n",
    "S3 = 'https://divvy-tripdata.s3.amazonaws.com/'\n",
    "DATA_DIR = './data'\n"
   ]
  },
  {
   "cell_type": "code",
   "execution_count": null,
   "id": "d629d330-6271-47dd-8168-f7ada5a8ef26",
   "metadata": {
    "tags": []
   },
   "outputs": [],
   "source": [
    "# Check dir\n",
    "Path(DATA_DIR).mkdir(parents=True, exist_ok=True)\n",
    "\n",
    "'''\n",
    "# Download the zip files from the URL within date range and unzip\n",
    "# NOTE: 2021 + 2022 dataset is over 11M trips, which requires at least a 24GB GPU\n",
    "for year in range(2021, 2023):\n",
    "    for month in range(1, 13):\n",
    "        file = f'{year}{month:02d}-divvy-tripdata.zip'\n",
    "        URL = f'{S3}{file}'\n",
    "        ! wget -P {DATA_DIR} {URL}\n",
    "     \n",
    "        with ZipFile(f'{DATA_DIR}/{file}') as zip:\n",
    "            zip.extractall(f'{DATA_DIR}')\n",
    "'''"
   ]
  },
  {
   "cell_type": "markdown",
   "id": "c934b0cd-0525-421d-aed7-4fd8bd3644af",
   "metadata": {},
   "source": [
    "### cuDF"
   ]
  },
  {
   "cell_type": "code",
   "execution_count": null,
   "id": "7e90bc57-8e33-40fb-8752-5b82672c6374",
   "metadata": {
    "tags": []
   },
   "outputs": [],
   "source": [
    "# Load all csv as dataframes and combine into one cudf\n",
    "df_array = []\n",
    "\n",
    "for file in Path(DATA_DIR).rglob('20*.csv'):\n",
    "    gdf = cudf.read_csv(file)\n",
    "    df_array.append(gdf)\n",
    "\n",
    "df = cudf.concat(df_array)\n",
    "\n",
    "# Check the data\n",
    "df.reset_index()"
   ]
  },
  {
   "cell_type": "markdown",
   "id": "01a6f758-6a82-4d4c-a802-6f4b41490f04",
   "metadata": {},
   "source": [
    "## Check and Clean Data"
   ]
  },
  {
   "cell_type": "markdown",
   "id": "483b8cb2-af3e-4777-a4f4-7b8cece0ab6c",
   "metadata": {},
   "source": [
    "The data seems unreasonabliy clean, but there are still a few things we improve on it. Lets check for blanks and nulls first."
   ]
  },
  {
   "cell_type": "code",
   "execution_count": null,
   "id": "b82eae3a-db19-4eeb-8926-e98dfaa8500a",
   "metadata": {
    "tags": []
   },
   "outputs": [],
   "source": [
    "df.isnull().sum()\n"
   ]
  },
  {
   "cell_type": "code",
   "execution_count": null,
   "id": "eddedadb-307b-474f-a422-00494f4aebf2",
   "metadata": {
    "tags": []
   },
   "outputs": [],
   "source": [
    "# Filter rows with at least one null value\n",
    "df[df['end_lat'].isnull()]\n"
   ]
  },
  {
   "cell_type": "code",
   "execution_count": null,
   "id": "c1d35079-21f5-4402-8ca6-30d942d300a0",
   "metadata": {
    "tags": []
   },
   "outputs": [],
   "source": [
    "# drop nulls\n",
    "df = df.dropna(subset=['end_lat']).reset_index()\n",
    "df.isnull().sum()"
   ]
  },
  {
   "cell_type": "code",
   "execution_count": null,
   "id": "0b79c776-0b90-4ea3-b91c-110e785e96d8",
   "metadata": {
    "tags": []
   },
   "outputs": [],
   "source": [
    "# Replace null values in 'start_station_id' with 'none'\n",
    "df['start_station_name'] = df['start_station_name'].fillna('none')\n",
    "\n",
    "# Replace null values in 'end_station_id' with 'none'\n",
    "df['end_station_name'] = df['end_station_name'].fillna('none')\n"
   ]
  },
  {
   "cell_type": "code",
   "execution_count": null,
   "id": "36e01f27-e027-41f7-b3d2-3ceee1d2a81f",
   "metadata": {
    "tags": []
   },
   "outputs": [],
   "source": [
    "# Remove any erronus out of area lat lngs\n",
    "min_lat = 41.5\n",
    "max_lat = 42.5\n",
    "min_lng = -88.0\n",
    "max_lng = -87.0\n",
    "\n",
    "df = df[(df['start_lat'] >= min_lat) & (df['start_lat'] <= max_lat) & (df['start_lng'] >= min_lng) & (df['start_lng'] <= max_lng) & \n",
    "                (df['end_lat'] >= min_lat) & (df['end_lat'] <= max_lat) & (df['end_lng'] >= min_lng) & (df['end_lng'] <= max_lng)].reset_index()"
   ]
  },
  {
   "cell_type": "code",
   "execution_count": null,
   "id": "180d34e4-48ee-4fc3-bf3f-a995e2a78f4a",
   "metadata": {},
   "outputs": [],
   "source": [
    "df.dtypes"
   ]
  },
  {
   "cell_type": "markdown",
   "id": "d4e944af-d291-491b-89b3-cd70a7a6be1c",
   "metadata": {},
   "source": [
    "The 'started_at' and 'ended_at' columns should be proper date times types."
   ]
  },
  {
   "cell_type": "code",
   "execution_count": null,
   "id": "2003ee40-ac66-41c5-b23a-98bd984e01ab",
   "metadata": {
    "tags": []
   },
   "outputs": [],
   "source": [
    "df['started_at'] = cudf.to_datetime(df['started_at'])\n",
    "df['ended_at'] = cudf.to_datetime(df['ended_at'])\n",
    "\n",
    "df"
   ]
  },
  {
   "cell_type": "markdown",
   "id": "f5876af1-d74b-481c-a4c4-75a393914cc5",
   "metadata": {
    "tags": []
   },
   "source": [
    "To make things a bit easier lets break out the date and time into sperate columns, assuming we only need to worry about start time."
   ]
  },
  {
   "cell_type": "code",
   "execution_count": null,
   "id": "79dc170a-7d53-4631-8289-4da7d977800f",
   "metadata": {},
   "outputs": [],
   "source": [
    "df['year'] = df['started_at'].dt.year\n",
    "df['month'] = df['started_at'].dt.month\n",
    "df['day'] = df['started_at'].dt.day\n",
    "df['hour'] = df['started_at'].dt.hour\n",
    "\n",
    "df"
   ]
  },
  {
   "cell_type": "markdown",
   "id": "ed8af604-ac32-4a16-a3a5-939a10c4da2e",
   "metadata": {
    "tags": []
   },
   "source": [
    "Extracting out the day of the week would be hepful too."
   ]
  },
  {
   "cell_type": "code",
   "execution_count": null,
   "id": "7764e7d7-e81a-4ed1-b553-9d3b1f5c1f92",
   "metadata": {
    "tags": []
   },
   "outputs": [],
   "source": [
    "df['day_of_week'] = df['started_at'].dt.dayofweek\n",
    "\n",
    "df"
   ]
  },
  {
   "cell_type": "code",
   "execution_count": null,
   "id": "5a3333a3-4e3b-4ac6-8ac7-4d8ad061e43b",
   "metadata": {},
   "outputs": [],
   "source": [
    "rider_type = df.groupby('member_casual').size().rename(\"count\").reset_index()\n",
    "rider_type\n"
   ]
  },
  {
   "cell_type": "markdown",
   "id": "feb21d4d-3f7b-42d7-8777-7ea765d645dd",
   "metadata": {},
   "source": [
    "### hvPlot"
   ]
  },
  {
   "cell_type": "code",
   "execution_count": null,
   "id": "55402bd7-bdfa-432b-9494-37717f4d7c57",
   "metadata": {
    "tags": []
   },
   "outputs": [],
   "source": [
    "rider_type.hvplot.bar(x='member_casual', y='count', title='Total Rider Types', yformatter='%0.0f')"
   ]
  },
  {
   "cell_type": "code",
   "execution_count": null,
   "id": "6377f003-ad07-440a-aac5-f228e1e30323",
   "metadata": {
    "tags": []
   },
   "outputs": [],
   "source": [
    "# DOW = {0:'M', 1:'T', 2:'W', 3:'Th', 4:'F', 5:'Sa', 6:'Su'}\n",
    "\n",
    "day_counts = df.groupby('day_of_week').size().rename('count').reset_index().sort_values('day_of_week')\n",
    "day_counts.hvplot.bar('day_of_week', 'count', title=\"Trip starts per Week Day\", yformatter=\"%0.0f\")\n"
   ]
  },
  {
   "cell_type": "code",
   "execution_count": null,
   "id": "48228be8-06b2-413a-9bd3-f3ad31756900",
   "metadata": {
    "tags": []
   },
   "outputs": [],
   "source": [
    "# calculated duration in min\n",
    "df['dur_min'] = (df['ended_at'] - df['started_at'])\n",
    "df['dur_min'] = (df['dur_min'].dt.seconds / 60).round().astype('float32') #needed for cuML KDE\n",
    "\n",
    "df"
   ]
  },
  {
   "cell_type": "code",
   "execution_count": null,
   "id": "beb66168-3cae-4c0f-b598-91e3cee96a6c",
   "metadata": {
    "tags": []
   },
   "outputs": [],
   "source": [
    "df.hvplot.hist(y='dur_min', bins=20, title=\"Trips Duration Histrogram\", yformatter=\"%0.0f\")"
   ]
  },
  {
   "cell_type": "code",
   "execution_count": null,
   "id": "c066f4eb-47b5-45f0-aed9-8dfd8ac8d4b8",
   "metadata": {
    "tags": []
   },
   "outputs": [],
   "source": [
    "# Do some minor cleanup\n",
    "df = df.drop(['index','ride_id','started_at','ended_at','start_station_id','end_station_id'], axis=1).reset_index()"
   ]
  },
  {
   "cell_type": "markdown",
   "id": "d25c6441-b1ef-4ef7-9376-1c6c274ed7d8",
   "metadata": {},
   "source": [
    "### cuML + KDE"
   ]
  },
  {
   "cell_type": "code",
   "execution_count": null,
   "id": "fba2b040-9a22-495c-847b-47275f51a141",
   "metadata": {
    "tags": []
   },
   "outputs": [],
   "source": [
    "# CUML KDE\n",
    "\n",
    "# start, end, step size\n",
    "dur_range = cupy.arange(1.0, 200.0, 5.0)\n",
    "\n",
    "kde = cuml.KernelDensity(kernel='gaussian', bandwidth=3).fit(df['dur_min'])\n",
    "\n",
    "log_density_values = kde.score_samples(dur_range)\n",
    "density_values = cupy.exp(log_density_values)\n",
    "\n",
    "density_df = cudf.DataFrame({'duration': dur_range, 'density': density_values})\n",
    "\n",
    "density_df.hvplot.line(x='duration', y='density', xlabel='Data', ylabel='Density', title='Duration in min KDE')\n"
   ]
  },
  {
   "cell_type": "code",
   "execution_count": null,
   "id": "85d3ad4c-1114-43e7-a57c-494923dee7db",
   "metadata": {},
   "outputs": [],
   "source": [
    "df.loc[df['dur_min'].argsort().tail(5)]"
   ]
  },
  {
   "cell_type": "code",
   "execution_count": null,
   "id": "d34c450d-2674-4fb6-ab82-e017afa9847c",
   "metadata": {
    "tags": []
   },
   "outputs": [],
   "source": [
    "trips_by_hour = df.groupby('hour').size().rename('count').reset_index().sort_values('hour')\n",
    "\n",
    "avg_duration_by_hour = df.groupby('hour')['dur_min'].mean().rename('duration_mean').reset_index().sort_values('hour')\n",
    "\n",
    "trips_by_hour.hvplot.bar('hour', 'count', title=\"Trip Starts per Hour\", yformatter=\"%0.0f\") + avg_duration_by_hour.hvplot.bar('hour', 'duration_mean', title=\"Trip Duration per Hour\", yformatter=\"%0.0f\") "
   ]
  },
  {
   "cell_type": "code",
   "execution_count": null,
   "id": "e435462c-3c86-4dfa-a37d-8e5de30fe8c7",
   "metadata": {
    "tags": []
   },
   "outputs": [],
   "source": [
    "trips_by_hour_300 = df[df['dur_min'] <= 300].groupby('hour').size().rename('count').reset_index().sort_values('hour')\n",
    "\n",
    "avg_duration_by_hour_300 = df[df['dur_min'] <= 300].groupby('hour')['dur_min'].mean().rename('duration_mean').reset_index().sort_values('hour')\n",
    "\n",
    "trips_by_hour_300.hvplot.bar('hour', 'count', title=\"Trip Starts per Hour (under 300min)\", yformatter=\"%0.0f\") + avg_duration_by_hour_300.hvplot.bar('hour', 'duration_mean', title=\"Trip Duration per Hour (under 300min)\", yformatter=\"%0.0f\") "
   ]
  },
  {
   "cell_type": "code",
   "execution_count": null,
   "id": "543ee621-ca0c-4a90-9bad-2db0dbad856a",
   "metadata": {
    "tags": []
   },
   "outputs": [],
   "source": [
    "# group data by month, day_of_week and hour, count the number of rows in each group\n",
    "heatmap_data_dw = df.groupby(['day_of_week','hour']).size().rename('count').reset_index()\n",
    "heatmap_data_dw.hvplot.heatmap(x='day_of_week', y='hour', C='count', title=\"Trips by Hour and Day of Week\") "
   ]
  },
  {
   "cell_type": "code",
   "execution_count": null,
   "id": "dd8d235c-2175-4126-8f98-d2c660b7e280",
   "metadata": {
    "tags": []
   },
   "outputs": [],
   "source": [
    "# group data by month, day_of_week and hour, count the number of rows in each group\n",
    "heatmap_data_dwm = df.groupby(['month','day_of_week','hour']).size().rename('count').reset_index()\n",
    "heatmap_data_dwm.hvplot.heatmap(x='day_of_week', y='hour', C='count', groupby='month', widget_location='left_top', title=\"Trips by Hour and Day of Week per Month\")"
   ]
  },
  {
   "cell_type": "code",
   "execution_count": null,
   "id": "193f5c75-e8d5-486d-b104-186579c13549",
   "metadata": {
    "tags": []
   },
   "outputs": [],
   "source": [
    "df.hvplot.hexbin(x='start_lng', y='start_lat', cmap=colorcet.bgy, geo=True, tiles=\"OSM\", logz=False, gridsize=150, width=700, height=600, title=\"Trip Start Counts\") + df.hvplot.hexbin(x='end_lng', y='end_lat', geo=True, cmap=colorcet.bgy, tiles=\"OSM\", logz=False, gridsize=150, width=700, height=600, title=\"Trip End Counts\")"
   ]
  },
  {
   "cell_type": "markdown",
   "id": "dec49594-0122-45d8-9cdb-b49bc8d6d05d",
   "metadata": {},
   "source": [
    "And if you look at their system map, the lat longs seem to be accurate https://account.divvybikes.com/map.\n",
    "But this seems like a lot of start / stop places, lets see if we can identify stations."
   ]
  },
  {
   "cell_type": "code",
   "execution_count": null,
   "id": "a84771ef-1bec-4291-a983-a4f110cafa66",
   "metadata": {
    "tags": []
   },
   "outputs": [],
   "source": [
    "df['start_station_name'].unique()\n"
   ]
  },
  {
   "cell_type": "code",
   "execution_count": null,
   "id": "0cb6079d-a99b-43da-8a96-a59b391c4bd8",
   "metadata": {
    "tags": []
   },
   "outputs": [],
   "source": [
    "df['start_lat'].round(4).unique()\n"
   ]
  },
  {
   "cell_type": "markdown",
   "id": "23db5f33-d78f-437e-a335-2822be248d51",
   "metadata": {
    "tags": []
   },
   "source": [
    "So there are obviously many more starting points than stations, so it must be that the bikes do not have to start and stop at a station. We will have to find a way to bin the start stop locations into a reasonable number."
   ]
  },
  {
   "cell_type": "code",
   "execution_count": null,
   "id": "23cd05a8-d5b7-4925-9dae-8ec4302ecaaf",
   "metadata": {
    "tags": []
   },
   "outputs": [],
   "source": [
    "bike_type = df.groupby('rideable_type').size().rename('count').reset_index()\n",
    "bike_type.hvplot.bar(x='rideable_type', y='count', title='Total Bike Types', yformatter='%0.0f')"
   ]
  },
  {
   "cell_type": "markdown",
   "id": "b04800a0-a1fc-443f-87a2-332e2b0ca6b7",
   "metadata": {},
   "source": [
    "## cuSpatial"
   ]
  },
  {
   "cell_type": "code",
   "execution_count": null,
   "id": "3e287d6a-ee14-49aa-a40e-26091f39cd43",
   "metadata": {
    "tags": []
   },
   "outputs": [],
   "source": [
    "# Create a cuSpatial GeoSeries from the latitude and longitude columns\n",
    "start_points = cuspatial.GeoSeries.from_points_xy(df[['start_lng','start_lat']].interleave_columns().astype(\"float64\"))\n",
    "end_points = cuspatial.GeoSeries.from_points_xy(df[['end_lng','end_lat']].interleave_columns().astype(\"float64\"))\n"
   ]
  },
  {
   "cell_type": "code",
   "execution_count": null,
   "id": "389f4165-b3ca-46d5-a6a3-31091194e1b4",
   "metadata": {
    "tags": []
   },
   "outputs": [],
   "source": [
    "distances_in_km = cuspatial.haversine_distance(start_points, end_points)\n",
    "distances_in_km"
   ]
  },
  {
   "cell_type": "code",
   "execution_count": null,
   "id": "e08d7de7-1449-4a34-9d9a-b16c90d61394",
   "metadata": {
    "tags": []
   },
   "outputs": [],
   "source": [
    "# add the distances back into the dataframe, rounding values to make it more obvious if the stopped at the same place it started\n",
    "dist_m = cudf.Series(distances_in_km).values * 1000\n",
    "df['dist_m'] = dist_m.round().astype('int32')\n",
    "df"
   ]
  },
  {
   "cell_type": "code",
   "execution_count": null,
   "id": "2e97b9b4-9ca8-48dd-a1ad-6e16815788b8",
   "metadata": {
    "tags": []
   },
   "outputs": [],
   "source": [
    "df.hvplot.hist(y='dist_m', by='rideable_type', bins=80, title=\"Trips Distance By Type\", yformatter=\"%0.0f\") + df[df['dist_m'] > 0].hvplot.hist(y='dist_m', by='rideable_type', bins=80, title=\"Trips Distance By Type ( W/O Returns)\", yformatter=\"%0.0f\")"
   ]
  },
  {
   "cell_type": "markdown",
   "id": "48d37dc3-149c-443a-a996-55e5f2bd8bf4",
   "metadata": {},
   "source": [
    "### cuxfilter Crossfilter"
   ]
  },
  {
   "cell_type": "code",
   "execution_count": null,
   "id": "756a0da3-6de6-4c8d-9b38-cae0b99ad660",
   "metadata": {
    "tags": []
   },
   "outputs": [],
   "source": [
    "# FIX-NOTE: adding extension here explicitly RELOADS bokeh and all plots will work\n",
    "hvplot.extension('bokeh')"
   ]
  },
  {
   "cell_type": "code",
   "execution_count": null,
   "id": "0465dc8d-232b-4cd7-a5f8-2ada612b275f",
   "metadata": {
    "tags": []
   },
   "outputs": [],
   "source": [
    "# Specify the charts and widgets to use with the selected columns of data and string maps\n",
    "cux_df = cuxfilter.DataFrame.from_dataframe(df)\n",
    "\n",
    "charts = [\n",
    "\n",
    "    cuxfilter.charts.bar('dist_m', data_points=20 , title='Distance in M'),\n",
    "    cuxfilter.charts.bar('dur_min', data_points=20 , title='Duration in Min'),\n",
    "    cuxfilter.charts.bar('day_of_week', title='Day of Week'),\n",
    "    cuxfilter.charts.bar('hour', title='Trips per Hour'),\n",
    "    cuxfilter.charts.bar('day', title='Trips per Day'),\n",
    "    cuxfilter.charts.bar('month', title='Trips per Month')\n",
    "]\n",
    "\n",
    "\n",
    "widgets = [\n",
    "            cuxfilter.charts.multi_select('year')\n",
    "]\n",
    "\n",
    "# Generate the dashboard and select a layout\n",
    "d = cux_df.dashboard(charts, sidebar=widgets, layout=cuxfilter.layouts.two_by_three, theme=cuxfilter.themes.rapids, title='Bike Trips Dashboard')\n",
    "\n",
    "# Update the yaxis ticker to an easily readable format\n",
    "for i in charts:\n",
    "    if hasattr(i.chart, 'yaxis'):\n",
    "        i.chart.yaxis.formatter = NumeralTickFormatter(format=\"0,0\")\n",
    "\n",
    "\n",
    "# show is for seperate dashboard, await d.preview() is to generate an inline image preview, d.app() shows the app inline\n",
    "d.show()\n"
   ]
  },
  {
   "cell_type": "markdown",
   "id": "2b60801d-cab3-4e6f-98af-c83267ca5c5e",
   "metadata": {},
   "source": [
    "### hvPlot + Datashader + Panel"
   ]
  },
  {
   "cell_type": "code",
   "execution_count": null,
   "id": "5dd20b7f-3d83-4609-a4bd-88e44022b647",
   "metadata": {
    "tags": []
   },
   "outputs": [],
   "source": [
    "start_elec = df[df['rideable_type'] == 'electric_bike'].hvplot.points(x='start_lng', y='start_lat', geo=True, tiles=\"CartoDark\", width=700, height=500, datashade=True, dynspread=True, title=\"Electric Starts\") \n",
    "end_elec = df[df['rideable_type'] == 'electric_bike'].hvplot.points(x='end_lng', y='end_lat', geo=True, tiles=\"CartoDark\", width=700, height=500, datashade=True, dynspread=True, title=\"Electric Stops\") \n",
    "elec_row = pn.Row(start_elec, end_elec)\n",
    "elec_row "
   ]
  },
  {
   "cell_type": "code",
   "execution_count": null,
   "id": "e7110bd7-fd56-4b04-a235-7e4699dd9d86",
   "metadata": {
    "tags": []
   },
   "outputs": [],
   "source": [
    "\n",
    "# Get station count\n",
    "start_stations = df[df['end_station_name'] != 'none']\n",
    "unique_stations = start_stations.drop_duplicates(subset='end_station_name')\n"
   ]
  },
  {
   "cell_type": "code",
   "execution_count": null,
   "id": "322633a2-9fad-4f20-a0a6-df53d3c2e828",
   "metadata": {
    "tags": []
   },
   "outputs": [],
   "source": [
    "# Overlay station point with bike points, using end since its more dispersed \n",
    "raster = df.hvplot.points(x='end_lng', y='end_lat', geo=True, tiles='CartoDark', projection=cartopy.crs.GOOGLE_MERCATOR, hover=True, width=700, height=500, rasterize=True) #note: raster does not aggregate with datashader\n",
    "station_points = unique_stations.hvplot.points(x='end_lng', y='end_lat', geo=True, tiles=False, projection=cartopy.crs.GOOGLE_MERCATOR, hover=False, width=700, height=500, color='red', alpha=0.5)\n",
    "\n",
    "raster * station_points"
   ]
  },
  {
   "cell_type": "markdown",
   "id": "fa42c9cb-5ef1-4f21-8508-ed731b15a853",
   "metadata": {},
   "source": [
    "## cuML + Kmeans"
   ]
  },
  {
   "cell_type": "code",
   "execution_count": null,
   "id": "ca5927f9-1874-44af-8a78-a5c8d5566812",
   "metadata": {
    "tags": []
   },
   "outputs": [],
   "source": [
    "# combine all lat values \n",
    "lat_df = cudf.DataFrame()\n",
    "lat_df['lat'] = cudf.concat([df['start_lat'], df['end_lat']], ignore_index=True)\n",
    "\n",
    "# combine all lng values\n",
    "lng_df = cudf.DataFrame()\n",
    "lng_df['lng'] = cudf.concat([df['start_lng'], df['end_lng']], ignore_index=True)\n",
    "\n",
    "# create combined lat lng \n",
    "combined_lat_lng_df = cudf.concat([lat_df, lng_df], axis=1)\n",
    "\n",
    "combined_lat_lng_df\n"
   ]
  },
  {
   "cell_type": "code",
   "execution_count": null,
   "id": "3c92f936-2412-423b-ab92-3a2280398ad5",
   "metadata": {
    "tags": []
   },
   "outputs": [],
   "source": [
    "# Perform k-means clustering, from the approximate station count with a bit of headroom\n",
    "kmeans = cuml.cluster.KMeans(n_clusters=unique_stations.shape[0]+20, oversampling_factor=1.5, max_iter=200)\n",
    "\n",
    "# Note: This will take a min on larger datasets\n",
    "kmeans.fit(combined_lat_lng_df)\n",
    "\n",
    "# Get the cluster labels\n",
    "cluster_labels = kmeans.labels_\n",
    "\n",
    "cluster_labels"
   ]
  },
  {
   "cell_type": "code",
   "execution_count": null,
   "id": "4cb3fe3b-d4b8-4ad0-b699-bc2a3d807eea",
   "metadata": {
    "tags": []
   },
   "outputs": [],
   "source": [
    "# Get the edge list from the computed clusters\n",
    "half_length = len(cluster_labels) // 2\n",
    "\n",
    "edge_list_df = cudf.DataFrame({\n",
    "    'src': cluster_labels[:half_length].reset_index(drop=True).astype('int16'),\n",
    "    'dst': cluster_labels[half_length:].reset_index(drop=True).astype('int16')\n",
    "})\n",
    "\n",
    "edge_list_df"
   ]
  },
  {
   "cell_type": "code",
   "execution_count": null,
   "id": "02186db2-a000-4c26-8f8b-6a5df6f8df99",
   "metadata": {
    "tags": []
   },
   "outputs": [],
   "source": [
    "# Get the cluster centers or Nodes\n",
    "node_centers_df = kmeans.cluster_centers_\n",
    "\n",
    "node_centers_df = node_centers_df.rename(columns={0: 'node_lat', 1: 'node_lng'}).astype('float32')\n",
    "\n",
    "# Save node centers\n",
    "node_centers_df.to_parquet('./data/kmean_node_center.parquet') \n",
    "node_centers_df"
   ]
  },
  {
   "cell_type": "code",
   "execution_count": null,
   "id": "9e3d7916-34ee-4466-aec9-5545b6a3dc9c",
   "metadata": {
    "tags": []
   },
   "outputs": [],
   "source": [
    "# combine\n",
    "df = cudf.concat([df, edge_list_df], axis=1)\n"
   ]
  },
  {
   "cell_type": "code",
   "execution_count": null,
   "id": "0ec39ae8-41d4-4aa8-86f1-6866291d2123",
   "metadata": {
    "tags": []
   },
   "outputs": [],
   "source": [
    "# Verify the clustering worked by overlaying with the previous datashader chart\n",
    "cluster_map = node_centers_df.hvplot.points(x='node_lng', y='node_lat', geo=True, tiles=False, projection=cartopy.crs.GOOGLE_MERCATOR, hover=False, width=800, height=600, color='blue', alpha=0.8)\n",
    "\n",
    "raster * cluster_map * station_points  #Note: only specify geo=True, once otherwise the map tiles overlay the data of the second chart\n",
    "\n",
    "# Note: looks pretty good, within about a 2 block tolerance purple = good "
   ]
  },
  {
   "cell_type": "code",
   "execution_count": null,
   "id": "ec751be2-0f50-4ebc-9df6-33f0985950fa",
   "metadata": {
    "tags": []
   },
   "outputs": [],
   "source": [
    "# save to file\n",
    "df.to_parquet('./data/bike_df_full.parquet') "
   ]
  },
  {
   "cell_type": "markdown",
   "id": "4cf54a7c-3eca-4446-ab3f-e0589652ef80",
   "metadata": {},
   "source": [
    "## Clean up and Save"
   ]
  },
  {
   "cell_type": "code",
   "execution_count": null,
   "id": "1a6822c6-d010-4719-9d61-9f140915f874",
   "metadata": {
    "tags": []
   },
   "outputs": [],
   "source": [
    "# Starting to get a big messy, lets clean it up\n",
    "df_dur = df['dur_min'].astype('int16')\n",
    "\n",
    "df_geo = df[['start_lat','start_lng','end_lat','end_lng']].astype('float32')\n",
    "df = df.drop(['level_0 ','start_lat','start_lng','end_lat','end_lng','dur_min'], axis=1)\n",
    "df = cudf.concat([df,df_dur,df_geo], axis=1)\n",
    "\n",
    "df.to_parquet('./data/bike_df_clean.parquet') \n",
    "\n",
    "# check dtypes\n",
    "df.dtypes"
   ]
  },
  {
   "cell_type": "markdown",
   "id": "617f6457-78d6-4a01-bca5-f2e53068acdd",
   "metadata": {},
   "source": [
    "### cuxfilter GeoSpatial"
   ]
  },
  {
   "cell_type": "code",
   "execution_count": null,
   "id": "3601aa0b-8851-4f42-a476-95b8d766900c",
   "metadata": {},
   "outputs": [],
   "source": [
    "from pyproj import Proj, Transformer\n",
    "\n",
    "df = cudf.read_parquet('./data/bike_df_clean.parquet') \n",
    "\n",
    "# Note dont run twice\n",
    "transform_4326_to_3857 = Transformer.from_crs('epsg:4326', 'epsg:3857')\n",
    "\n",
    "df['end_lat'], df['end_lng'] = transform_4326_to_3857.transform(df['end_lat'].values_host, df['end_lng'].values_host)"
   ]
  },
  {
   "cell_type": "code",
   "execution_count": null,
   "id": "6763b191-713a-4812-86a2-81df9eb172d2",
   "metadata": {},
   "outputs": [],
   "source": [
    "\n",
    "G = cugraph.Graph() \n",
    "G.from_cudf_edgelist(df, source='src', destination='dst')\n",
    "edges = G.edges()\n"
   ]
  },
  {
   "cell_type": "code",
   "execution_count": null,
   "id": "c9064e71-5452-4020-869d-bdaa95b2da8e",
   "metadata": {},
   "outputs": [],
   "source": [
    "ITERATIONS=600\n",
    "THETA=5.0\n",
    "OPTIMIZE=True\n",
    "\n",
    "# Using the previously created edge list, we calculate the FA2 layout positions here\n",
    "trips_FA_df = cugraph.layout.force_atlas2(G, \n",
    "                    max_iter=ITERATIONS,\n",
    "                    strong_gravity_mode=True,\n",
    "                    outbound_attraction_distribution=False,\n",
    "                    lin_log_mode=False,\n",
    "                    barnes_hut_optimize=OPTIMIZE, \n",
    "                    barnes_hut_theta=THETA,\n",
    "                    verbose=False)\n",
    "\n",
    "trips_FA_df"
   ]
  },
  {
   "cell_type": "code",
   "execution_count": null,
   "id": "a3384449-dea3-438d-a6ec-ea3cc7168e8c",
   "metadata": {
    "tags": []
   },
   "outputs": [],
   "source": [
    "graph_df = trips_FA_df.merge(\n",
    "                df,\n",
    "                left_on='vertex',\n",
    "                right_on='dst',\n",
    "                suffixes=('', '_original'))\n",
    "\n",
    "graph_df"
   ]
  },
  {
   "cell_type": "code",
   "execution_count": null,
   "id": "ea8293fd-f5f9-4b5a-b2a4-4b9e0a9c7a97",
   "metadata": {
    "tags": []
   },
   "outputs": [],
   "source": [
    "# FIX-NOTE: adding extension here explicitly RELOADS bokeh and all plots will work\n",
    "hvplot.extension('bokeh')"
   ]
  },
  {
   "cell_type": "code",
   "execution_count": null,
   "id": "5bcfbd77-3b3f-4085-856e-de7700f1c3d2",
   "metadata": {},
   "outputs": [],
   "source": [
    "# Specifying a graph chart type will use Datashader and its required parameters\n",
    "cx_df = cuxfilter.DataFrame.load_graph((graph_df, edges))\n",
    "\n",
    "graph = cuxfilter.charts.graph(\n",
    "      edge_source='src', \n",
    "      edge_target='dst',\n",
    "      node_x='x',\n",
    "      node_y='y',\n",
    "      unselected_alpha=0.2,\n",
    "      edge_color_palette=['gray', 'black'],\n",
    "      node_pixel_shade_type='linear',\n",
    "      edge_transparency=0.2, \n",
    "      title='ForceAtlas2 Trip Graph'\n",
    "  )\n",
    "\n",
    "scatter = cuxfilter.charts.scatter(\n",
    "        x='end_lat',\n",
    "        y='end_lng',\n",
    "        unselected_alpha=0.1,\n",
    "        pixel_shade_type='eq_hist',\n",
    "        tile_provider='CartoDark', \n",
    "        title='Trip Endpoints'\n",
    "    )\n",
    "\n",
    "bar1 = cuxfilter.charts.bar('dur_min', data_points=20 , title='Duration in Min')\n",
    "bar2 = cuxfilter.charts.bar('hour', title='Trips per Hour')\n",
    "bar3 = cuxfilter.charts.bar('day_of_week', title='Trips per Day of Week')\n",
    "bar4 = cuxfilter.charts.bar('month', title='Trips per Month')\n",
    "table1 = cuxfilter.charts.view_dataframe(['start_station_name','end_station_name'], drop_duplicates=True)\n",
    "\n",
    "layout_array = [[1,1,1,2,2],\n",
    "                [3,4,5,6,7]]\n",
    "\n",
    "# Generate the dashboard, select a layout and theme\n",
    "d = cx_df.dashboard([graph,scatter,bar1,bar2,bar3,bar4,table1], layout_array=layout_array, theme=cuxfilter.themes.rapids, title='Divvy Bike Trip Clustering')\n",
    "\n",
    "# Update the yaxis ticker to an easily readable format\n",
    "for i in charts:\n",
    "    if hasattr(i.chart, 'yaxis'):\n",
    "        i.chart.yaxis.formatter = NumeralTickFormatter(format=\"0,0\")\n",
    "        \n",
    "d.show()\n"
   ]
  },
  {
   "cell_type": "markdown",
   "id": "7ab9962c-e948-44e9-979a-309c358eafc5",
   "metadata": {},
   "source": [
    "### Plotly Dash"
   ]
  },
  {
   "cell_type": "code",
   "execution_count": null,
   "id": "7194ee2d-6f31-499d-93b4-4f92d370c91d",
   "metadata": {
    "tags": []
   },
   "outputs": [],
   "source": [
    "# Setup plotly df\n",
    "df = cudf.read_parquet('./data/bike_df_clean.parquet')\n",
    "node_centers_df = cudf.read_parquet('./data/kmean_node_center.parquet') \n",
    "\n",
    "plotly_df = df[['rideable_type','member_casual','year','month','day','hour','day_of_week','src','dst']]\n",
    "\n",
    "plotly_df"
   ]
  },
  {
   "cell_type": "code",
   "execution_count": null,
   "id": "7fe57fab-d1ef-4511-a509-23609dd2cb77",
   "metadata": {},
   "outputs": [],
   "source": [
    "app = JupyterDash(__name__)\n",
    "\n",
    "app.layout = html.Div([\n",
    "        html.Div([\n",
    "            html.H2(\"Divvy Bikeshare Ranking of Destinations\"),\n",
    "            html.H4(\"Total Selected Trips:\"),\n",
    "            html.H2(['{:,}'.format(plotly_df.shape[0])]),\n",
    "            html.H4(\"Year:\"),\n",
    "            dcc.Dropdown(id = 'year', options=sorted(plotly_df['year'].unique().to_pandas()), value='', clearable = True),\n",
    "            html.H4(\"Month:\"),\n",
    "            dcc.Dropdown(id = 'month', options=sorted(plotly_df['month'].unique().to_pandas()), value='', clearable = True),\n",
    "            html.H4(\"Bike Type:\"),\n",
    "            dcc.Dropdown(id = 'bikes', options=sorted(plotly_df['rideable_type'].unique().to_pandas()), value='', clearable = True),\n",
    "            html.H4(\"User Type:\"),\n",
    "            dcc.Dropdown(id = 'user', options=sorted(plotly_df['member_casual'].unique().to_pandas()), value='', clearable = True)\n",
    "            ],\n",
    "            style = {\n",
    "                'z-index' : '99',\n",
    "                'font-family':'sans-serif',\n",
    "                'position': 'absolute',\n",
    "                'width': '15vw',\n",
    "                'height': 'calc(100vh - 3rem)',\n",
    "                'padding': '1em',\n",
    "                'background-color': '#3a97d3',\n",
    "                'color': '#f1f1f1',\n",
    "                'border-radius': '0.5rem',\n",
    "                'box-shadow': '5px 0px 3px 0px rgba(0,0,0,0.3)'\n",
    "            }\n",
    "        ),\n",
    "        html.Div([\n",
    "            html.Div([\n",
    "                html.H3(\"Area Importance PageRank(Color) by Trips(Size)\", style={'font-family':'sans-serif','color':'#3a97d3'}),\n",
    "                dcc.Graph(id = 'pagerank_plot', config = {'responsive': True, 'displaylogo': False, 'modeBarButtonsToRemove': ['select2d', 'lasso2d', 'toImage']})\n",
    "            ],\n",
    "            style = {\n",
    "                'display': 'inline-block',\n",
    "                'width': '70vw',\n",
    "                'vertical-align':'top'\n",
    "            }),\n",
    "            html.Div([\n",
    "                html.H3(\"Trips Per Day of Week\", style={'font-family':'sans-serif','color':'#3a97d3'}),\n",
    "                dcc.Graph(id = 'dow_plot', config = {'responsive': True, 'displaylogo': False, 'modeBarButtonsToRemove': ['zoom2d', 'zoomIn2d', 'zoomOut2d','toImage']})\n",
    "            ],\n",
    "            style = {\n",
    "                'display': 'inline-block',\n",
    "                'width': '35vw',\n",
    "                'vertical-align': 'bottom'\n",
    "            }),\n",
    "            html.Div([\n",
    "                html.H3(\"Trips Per Hour\", style={'font-family':'sans-serif','color':'#3a97d3'}),\n",
    "                dcc.Graph(id = 'hour_plot',config = {'responsive': True, 'displaylogo': False, 'modeBarButtonsToRemove': ['zoom2d', 'zoomIn2d', 'zoomOut2d','toImage']})\n",
    "            ],\n",
    "            style = {\n",
    "                'display': 'inline-block',\n",
    "                'width': '35vw',\n",
    "                'vertical-align': 'bottom'\n",
    "            })\n",
    "            ],\n",
    "            style = {\n",
    "                'width': '70vw',\n",
    "                'margin-left': '20vw',\n",
    "                'padding-top': '1em',\n",
    "                'display': 'inline-block',\n",
    "                'vertical-align': 'top',\n",
    "            })\n",
    "        ]\n",
    ")\n"
   ]
  },
  {
   "cell_type": "code",
   "execution_count": null,
   "id": "2fbc579c-57ae-445b-bca5-029a6245a73e",
   "metadata": {},
   "outputs": [],
   "source": [
    "# Define callback to update graph, id ties plot code to layout\n",
    "@app.callback(\n",
    "       [\n",
    "          Output('pagerank_plot', 'figure'),\n",
    "          Output('dow_plot', 'figure'),\n",
    "          Output('hour_plot', 'figure')\n",
    "        ],\n",
    "        [\n",
    "         Input('year', 'value'),\n",
    "         Input('month', 'value'), \n",
    "         Input('bikes', 'value'), \n",
    "         Input('user', 'value'), \n",
    "         Input('dow_plot', 'selectedData'),\n",
    "         Input('hour_plot', 'selectedData')\n",
    "       ]\n",
    ")\n",
    "def update_figure(year, month, bikes, user, dow_data, hour_data):\n",
    "    \n",
    "    data = plotly_df\n",
    "\n",
    "    if hour_data is not None:  \n",
    "        data = data[(data['hour'] >= hour_data['range']['x'][0]) & (data['hour'] <= math.floor(hour_data['range']['x'][1]))]\n",
    "        \n",
    "    if dow_data is not None: \n",
    "        data = data[(data['day_of_week'] >= hour_data['range']['x'][0]) & (data['day_of_week'] <= math.floor(hour_data['range']['x'][1]))]                                                                                              \n",
    "    \n",
    "    if year is not None:  \n",
    "        if year != '':\n",
    "            data = data[data['year'] == year]\n",
    "        \n",
    "    hour_plot = get_hour_chart(data)\n",
    "    dow_plot = get_dow_chart(data)\n",
    "    pagerank_plot = get_pagerank_plot(data)\n",
    "\n",
    "\n",
    "    return pagerank_plot, dow_plot, hour_plot"
   ]
  },
  {
   "cell_type": "code",
   "execution_count": null,
   "id": "5a183226-1795-4908-91c3-dc81df5c66f8",
   "metadata": {
    "tags": []
   },
   "outputs": [],
   "source": [
    "# Live calc pageRank \n",
    "def calculate_page_rank(data):\n",
    "    G = cugraph.Graph()\n",
    "    G.from_cudf_edgelist(data, source='src', destination='dst', store_transposed=True)\n",
    "    data_rank = cugraph.pagerank(G)\n",
    "    return data_rank\n",
    "\n",
    "# Geospatial bubble chart based on Page Rank and Trip data\n",
    "def get_pagerank_plot(data):\n",
    "    data_rank = calculate_page_rank(data)\n",
    "    trips = data.groupby('dst').agg({'dst': 'size'}).rename(columns={'dst': 'arrivals'}).reset_index()\n",
    "    trips = trips.merge(data_rank, left_on='dst', right_on='vertex').drop(columns=['vertex'])\n",
    "    rank_chart = trips.merge(node_centers_df, left_on='dst', right_index=True).reset_index(drop=True)\n",
    "    g = px.scatter_mapbox(rank_chart.to_pandas(), lat=\"node_lat\", lon=\"node_lng\", color=\"pagerank\", size='arrivals',\n",
    "                          hover_data=[\"pagerank\",\"dst\"], mapbox_style=\"carto-positron\",\n",
    "                          color_continuous_scale=px.colors.sequential.haline, size_max=20, zoom=10, height=800\n",
    "                         )\n",
    "    g.layout['uirevision'] = True\n",
    "    return g\n",
    "\n",
    "# Bar chart based on day of week\n",
    "def get_dow_chart(data):\n",
    "    dow = df.groupby('day_of_week').size().rename(\"count\").reset_index()\n",
    "    g = px.bar(dow.to_pandas(), \n",
    "               x=\"day_of_week\", y='count', template=dict(layout={'selectdirection': 'h',}), height=300\n",
    "              )\n",
    "    g.layout['dragmode']='select'\n",
    "    g.layout['uirevision'] = True\n",
    "    return g\n",
    "\n",
    "# Bar chart based on day of hour\n",
    "def get_hour_chart(data):\n",
    "    hour = df.groupby('hour').size().rename(\"count\").reset_index()\n",
    "    g = px.bar(hour.to_pandas(), \n",
    "               x=\"hour\", y='count', template=dict(layout={'selectdirection': 'h',}), height=300\n",
    "              )\n",
    "    g.layout['dragmode']='select'\n",
    "    g.layout['uirevision'] = True\n",
    "    return g"
   ]
  },
  {
   "cell_type": "code",
   "execution_count": null,
   "id": "15ddeff2-eff7-46ec-9903-240520ff7df9",
   "metadata": {
    "tags": []
   },
   "outputs": [],
   "source": [
    "# Find all the different ways you can deploy your JupyterDash App, or even without using Jupyter https://dash.plotly.com/workspaces/using-dash-in-jupyter-and-workspaces\n",
    "if __name__ == '__main__':\n",
    "    app.run_server(debug=True)\n"
   ]
  },
  {
   "cell_type": "markdown",
   "id": "55c6d356-4bf5-457c-8e27-a84d08a189b1",
   "metadata": {
    "editable": true,
    "slideshow": {
     "slide_type": ""
    },
    "tags": []
   },
   "source": [
    "## To Do\n",
    "Complete:\n",
    "- Add more comments\n",
    "- Fix plotly callback\n",
    "- Add conclusion\n",
    "\n",
    "Issues:\n",
    "- Juplyter lab needs to be 3.6.4 for hvPlot\n",
    "- FIX: use latest cuxfilter so can filter by string category (TBD)\n",
    "- FIX: cuxfilter / hvplot bokeh.js assets bug (TBD)\n",
    "- Include env yaml"
   ]
  },
  {
   "cell_type": "markdown",
   "id": "fde82297-3de3-4f6f-a7b4-a69d7fd6ddf5",
   "metadata": {},
   "source": [
    "## Conclusion"
   ]
  },
  {
   "cell_type": "markdown",
   "id": "79e64de6-5029-46f0-94ca-e79c26e84808",
   "metadata": {},
   "source": [
    "Text"
   ]
  },
  {
   "cell_type": "code",
   "execution_count": null,
   "id": "5afb3aad-f2cb-4278-92de-fe3ddc316c7a",
   "metadata": {},
   "outputs": [],
   "source": []
  }
 ],
 "metadata": {
  "kernelspec": {
   "display_name": "Python 3 (ipykernel)",
   "language": "python",
   "name": "python3"
  },
  "language_info": {
   "codemirror_mode": {
    "name": "ipython",
    "version": 3
   },
   "file_extension": ".py",
   "mimetype": "text/x-python",
   "name": "python",
   "nbconvert_exporter": "python",
   "pygments_lexer": "ipython3",
   "version": "3.10.11"
  }
 },
 "nbformat": 4,
 "nbformat_minor": 5
}
