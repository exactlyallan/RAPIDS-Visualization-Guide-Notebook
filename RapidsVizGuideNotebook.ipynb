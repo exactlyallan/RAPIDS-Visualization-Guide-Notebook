{
 "cells": [
  {
   "cell_type": "markdown",
   "id": "57c640dc-5b87-4dac-9b1b-6857ea8543f3",
   "metadata": {},
   "source": [
    "<img src=\"https://github.com/jupytercon/2020-exactlyallan/raw/master/images/RAPIDS-header-graphic.png\" style=\"width:50%\">\n"
   ]
  },
  {
   "cell_type": "markdown",
   "id": "5f12b672-385e-4586-aff1-3b0eca6c5fd0",
   "metadata": {},
   "source": [
    "# RAPIDS Visualization Guide Notebook\n",
    "### A Streamlined Guide to RAPIDS Accelerated Visualization and Visual Analtyics\n",
    "The guide will walk through using RAPIDS cuDF, cuSpatial, and cuGraph with Holoviews, hvPlot, Datashader, cuxfilter, and Plotly Dash with the publically availble Divvy Bike share dataset. "
   ]
  },
  {
   "cell_type": "markdown",
   "id": "24afd7a0-25c1-47b2-8085-45ff7bc25621",
   "metadata": {
    "tags": []
   },
   "source": [
    "**NOTES and TODO:**\n",
    "-Base on [JupyterCon Notebooks](https://github.com/rapidsai-community/event-notebooks/blob/main/JupyterCon_2020_RAPIDSViz/00%20Index%20and%20Introduction.ipynb) not cuxfilter tutorial\n"
   ]
  },
  {
   "cell_type": "markdown",
   "id": "1b066857-8050-4d13-b104-2515abf79ac3",
   "metadata": {
    "jp-MarkdownHeadingCollapsed": true
   },
   "source": [
    "## Requirements\n",
    "- System that meets the [RAPIDS system and GPU requirements](https://docs.rapids.ai/install#system-req)\n"
   ]
  },
  {
   "cell_type": "markdown",
   "id": "4fe1c86e-a986-4b72-8be2-acc3fa6d6456",
   "metadata": {
    "tags": []
   },
   "source": [
    "## Dependencies\n",
    "Use the below to install all the required dependencies via conda:\n",
    "\n",
    "channels:\n",
    "- rapidsai\n",
    "- nvidia\n",
    "- pyviz\n",
    "- conda-forge\n",
    "- plotly\n",
    "- anaconda\n",
    "\n",
    "dependencies:\n",
    "- cuxfilter>=23.02\n",
    "- cudf>=23.02\n",
    "- cuspatial>=23.02\n",
    "- cugraph>=23.02\n",
    "- cudatoolkit=11.8\n",
    "- python>=3.10\n",
    "- plotly\n",
    "- dash-core-components\n",
    "- dash-html-components\n",
    "- jupyter-dash\n",
    "- jupyterlab\n",
    "- jupyter-server-proxy\n",
    "- holoviews\n",
    "- hvplot\n",
    "- geoviews\n",
    "- cartopy\n",
    "- networkx"
   ]
  },
  {
   "cell_type": "code",
   "execution_count": null,
   "id": "0c1f3bef-c71f-496b-99d4-ac00a33001c8",
   "metadata": {
    "tags": []
   },
   "outputs": [],
   "source": [
    "# imports\n",
    "import os\n",
    "from zipfile import ZipFile\n",
    "from pathlib import Path\n",
    "\n",
    "import cupy\n",
    "\n",
    "import cudf\n",
    "import cuspatial\n",
    "import cugraph\n",
    "import cuml\n",
    "\n",
    "from bokeh.models import NumeralTickFormatter\n",
    "import hvplot.cudf\n",
    "import colorcet\n",
    "\n",
    "import cuxfilter\n"
   ]
  },
  {
   "cell_type": "markdown",
   "id": "b146dd4f-ff98-4754-80cb-99ac91a7e8e4",
   "metadata": {},
   "source": [
    "## Dataset\n",
    "The dataset can be downloaded from the [Divvy Bike Share public dataset](https://divvybikes.com/system-data). Use the following script to download the desired date range and load it into a dataframe.\n"
   ]
  },
  {
   "cell_type": "code",
   "execution_count": null,
   "id": "bd79769c-6851-4071-b68c-adc95a410d90",
   "metadata": {
    "tags": []
   },
   "outputs": [],
   "source": [
    "# Define the URL of the Divvy trip data and save dir\n",
    "S3 = 'https://divvy-tripdata.s3.amazonaws.com/'\n",
    "DATA_DIR = './data'\n"
   ]
  },
  {
   "cell_type": "code",
   "execution_count": null,
   "id": "d629d330-6271-47dd-8168-f7ada5a8ef26",
   "metadata": {
    "tags": []
   },
   "outputs": [],
   "source": [
    "# Check dir\n",
    "Path(DATA_DIR).mkdir(parents=True, exist_ok=True)\n",
    "\"\"\"\n",
    "# Download the zip files from the URL within date range and unzip\n",
    "for year in range(2021, 2022):\n",
    "    for month in range(1, 4):\n",
    "        file = f'{year}{month:02d}-divvy-tripdata.zip'\n",
    "        URL = f'{S3}{file}'\n",
    "        ! wget -P {DATA_DIR} {URL}\n",
    "     \n",
    "        with ZipFile(f'{DATA_DIR}/{file}') as zip:\n",
    "            zip.extractall(f'{DATA_DIR}')\n",
    "\"\"\"            "
   ]
  },
  {
   "cell_type": "code",
   "execution_count": null,
   "id": "7e90bc57-8e33-40fb-8752-5b82672c6374",
   "metadata": {
    "tags": []
   },
   "outputs": [],
   "source": [
    "\n",
    "# Load all csv as dataframes and combine into one cudf\n",
    "df_array = []\n",
    "\n",
    "for file in Path(DATA_DIR).rglob('20*.csv'):\n",
    "    gdf = cudf.read_csv(file)\n",
    "    df_array.append(gdf)\n",
    "\n",
    "df = cudf.concat(df_array)\n",
    "\n",
    "# Check the data\n",
    "df.reset_index()"
   ]
  },
  {
   "cell_type": "markdown",
   "id": "483b8cb2-af3e-4777-a4f4-7b8cece0ab6c",
   "metadata": {},
   "source": [
    "The data seems unreasonabliy clean, but there are still a few things we improve on it. First lets double check the dtypes.\n"
   ]
  },
  {
   "cell_type": "markdown",
   "id": "ef08de04-2f50-4f49-b7b7-06f575251121",
   "metadata": {},
   "source": [
    "Lets check for blanks and nulls first\n"
   ]
  },
  {
   "cell_type": "code",
   "execution_count": null,
   "id": "b82eae3a-db19-4eeb-8926-e98dfaa8500a",
   "metadata": {
    "tags": []
   },
   "outputs": [],
   "source": [
    "df.isnull().sum()\n"
   ]
  },
  {
   "cell_type": "code",
   "execution_count": null,
   "id": "eddedadb-307b-474f-a422-00494f4aebf2",
   "metadata": {
    "tags": []
   },
   "outputs": [],
   "source": [
    "# Filter rows with at least one null value\n",
    "df[df['end_lat'].isnull()]\n"
   ]
  },
  {
   "cell_type": "code",
   "execution_count": null,
   "id": "c1d35079-21f5-4402-8ca6-30d942d300a0",
   "metadata": {
    "tags": []
   },
   "outputs": [],
   "source": [
    "# drop nulls\n",
    "df = df.dropna(subset=['end_lat']).reset_index()\n",
    "df.isnull().sum()"
   ]
  },
  {
   "cell_type": "code",
   "execution_count": null,
   "id": "180d34e4-48ee-4fc3-bf3f-a995e2a78f4a",
   "metadata": {},
   "outputs": [],
   "source": [
    "df.dtypes"
   ]
  },
  {
   "cell_type": "markdown",
   "id": "d4e944af-d291-491b-89b3-cd70a7a6be1c",
   "metadata": {},
   "source": [
    "The 'started_at' and 'ended_at' columns should be proper date times types."
   ]
  },
  {
   "cell_type": "code",
   "execution_count": null,
   "id": "2003ee40-ac66-41c5-b23a-98bd984e01ab",
   "metadata": {
    "tags": []
   },
   "outputs": [],
   "source": [
    "df['started_at'] = cudf.to_datetime(df['started_at'])\n",
    "df['ended_at'] = cudf.to_datetime(df['ended_at'])\n",
    "\n",
    "df"
   ]
  },
  {
   "cell_type": "markdown",
   "id": "f5876af1-d74b-481c-a4c4-75a393914cc5",
   "metadata": {
    "tags": []
   },
   "source": [
    "To make things a bit easier lets break out the date and time into sperate columns, assuming we only need to worry about start time."
   ]
  },
  {
   "cell_type": "code",
   "execution_count": null,
   "id": "79dc170a-7d53-4631-8289-4da7d977800f",
   "metadata": {},
   "outputs": [],
   "source": [
    "df['year'] = df['started_at'].dt.year\n",
    "df['month'] = df['started_at'].dt.month\n",
    "df['day'] = df['started_at'].dt.day\n",
    "df['hour'] = df['started_at'].dt.hour\n",
    "\n",
    "df"
   ]
  },
  {
   "cell_type": "markdown",
   "id": "ed8af604-ac32-4a16-a3a5-939a10c4da2e",
   "metadata": {
    "tags": []
   },
   "source": [
    "Extracting out the day of the week would be hepful too."
   ]
  },
  {
   "cell_type": "code",
   "execution_count": null,
   "id": "7764e7d7-e81a-4ed1-b553-9d3b1f5c1f92",
   "metadata": {
    "tags": []
   },
   "outputs": [],
   "source": [
    "df['day_of_week'] = df['started_at'].dt.dayofweek\n",
    "\n",
    "df"
   ]
  },
  {
   "cell_type": "code",
   "execution_count": null,
   "id": "5a3333a3-4e3b-4ac6-8ac7-4d8ad061e43b",
   "metadata": {},
   "outputs": [],
   "source": [
    "rider_type = df.groupby('member_casual').size().rename(\"count\").reset_index()\n",
    "rider_type\n"
   ]
  },
  {
   "cell_type": "markdown",
   "id": "29e02dc0-b0d5-481e-8f6e-6f9640ca26bb",
   "metadata": {},
   "source": [
    "## A Note on Preattentive Attributes\n",
    "This subconcious ability to quickly recognize patterns is due to our brain's natural ability to find preattentive attributes, such as height, orientation, or color. Imagine 100 values in a table and 100 in a bar chart and how quickly you would be albe to find the smallest and largest values in either."
   ]
  },
  {
   "cell_type": "code",
   "execution_count": null,
   "id": "55402bd7-bdfa-432b-9494-37717f4d7c57",
   "metadata": {
    "tags": []
   },
   "outputs": [],
   "source": [
    "rider_type.hvplot.bar(x='member_casual', y='count', title='Total Rider Types', yformatter='%0.0f')"
   ]
  },
  {
   "cell_type": "code",
   "execution_count": null,
   "id": "f865814f-bd3a-403b-bf3c-f6695b77c08d",
   "metadata": {},
   "outputs": [],
   "source": [
    "hour_counts = df.groupby('hour').size().rename('count').reset_index()\n",
    "hour_counts.hvplot.bar('hour', 'count', title=\"Trip starts, per hour\", yformatter=\"%0.0f\")"
   ]
  },
  {
   "cell_type": "code",
   "execution_count": null,
   "id": "6377f003-ad07-440a-aac5-f228e1e30323",
   "metadata": {
    "tags": []
   },
   "outputs": [],
   "source": [
    "# DOW = {0:'M', 1:'T', 2:'W', 3:'Th', 4:'F', 5:'Sa', 6:'Su'}\n",
    "\n",
    "day_counts = df.groupby('day_of_week').size().rename('count').reset_index().sort_values('day_of_week')\n",
    "day_counts.hvplot.bar('day_of_week', 'count', title=\"Trip starts per Week Day\", yformatter=\"%0.0f\")"
   ]
  },
  {
   "cell_type": "code",
   "execution_count": null,
   "id": "48228be8-06b2-413a-9bd3-f3ad31756900",
   "metadata": {
    "tags": []
   },
   "outputs": [],
   "source": [
    "# calculated duration in min\n",
    "\n",
    "df['dur_min'] = (df['ended_at'] - df['started_at'])\n",
    "\n",
    "df['dur_min'] = (df['dur_min'].dt.seconds / 60).round().astype('float32') #change later?\n",
    "\n",
    "df\n"
   ]
  },
  {
   "cell_type": "code",
   "execution_count": null,
   "id": "beb66168-3cae-4c0f-b598-91e3cee96a6c",
   "metadata": {
    "tags": []
   },
   "outputs": [],
   "source": [
    "df.hvplot.hist(y='dur_min', bins=50, title=\"Trips Duration Histrogram\", yformatter=\"%0.0f\")"
   ]
  },
  {
   "cell_type": "code",
   "execution_count": null,
   "id": "85d3ad4c-1114-43e7-a57c-494923dee7db",
   "metadata": {},
   "outputs": [],
   "source": [
    "df.loc[df['dur_min'].argsort().tail(1)]"
   ]
  },
  {
   "cell_type": "code",
   "execution_count": null,
   "id": "e582a73b-9d02-4d17-aa71-d0cb873d6bc2",
   "metadata": {
    "tags": []
   },
   "outputs": [],
   "source": [
    "# CUML KDE\n",
    "\n",
    "# start, end, step size\n",
    "dur_range = cupy.arange(1.0, 200, 1.0)\n",
    "\n",
    "kde = KernelDensity(kernel='gaussian', bandwidth=1).fit(df['dur_min'])\n",
    "\n",
    "log_density_values = kde.score_samples(dur_range)\n",
    "density_values = cupy.exp(log_density_values)\n",
    "\n",
    "density_df = cudf.DataFrame({'duration': dur_range, 'density': density_values})\n",
    "\n",
    "density_df.hvplot.line(x='duration', y='density', xlabel='Data', ylabel='Density', title='Duration in min KDE')\n"
   ]
  },
  {
   "cell_type": "code",
   "execution_count": null,
   "id": "543ee621-ca0c-4a90-9bad-2db0dbad856a",
   "metadata": {
    "tags": []
   },
   "outputs": [],
   "source": [
    "# group data by month, day_of_week and hour, count the number of rows in each group\n",
    "heatmap_data_dw = df.groupby(['day_of_week','hour']).size().rename('count').reset_index()\n",
    "heatmap_data_dw.hvplot.heatmap(x='day_of_week', y='hour', C='count')"
   ]
  },
  {
   "cell_type": "code",
   "execution_count": null,
   "id": "dd8d235c-2175-4126-8f98-d2c660b7e280",
   "metadata": {
    "tags": []
   },
   "outputs": [],
   "source": [
    "# group data by month, day_of_week and hour, count the number of rows in each group\n",
    "heatmap_data_dwm = df.groupby(['month','day_of_week','hour']).size().rename('count').reset_index()\n",
    "heatmap_data_dwm.hvplot.heatmap(x='day_of_week', y='hour', C='count', groupby='month', widget_location='left_top')"
   ]
  },
  {
   "cell_type": "code",
   "execution_count": null,
   "id": "193f5c75-e8d5-486d-b104-186579c13549",
   "metadata": {
    "tags": []
   },
   "outputs": [],
   "source": [
    "df.hvplot.hexbin(x='start_lng', y='start_lat', cmap=colorcet.bgy, geo=True, tiles=\"OSM\", logz=False, gridsize=150, width=700, height=600)"
   ]
  },
  {
   "cell_type": "code",
   "execution_count": null,
   "id": "d7dece35-9d83-406e-bcb4-5dbefd058129",
   "metadata": {
    "tags": []
   },
   "outputs": [],
   "source": [
    "df.hvplot.hexbin(x='end_lng', y='end_lat', geo=True, cmap=colorcet.bgy, tiles=\"OSM\", logz=False, gridsize=150, width=700, height=600)"
   ]
  },
  {
   "cell_type": "markdown",
   "id": "dec49594-0122-45d8-9cdb-b49bc8d6d05d",
   "metadata": {},
   "source": [
    "And if you look at their system map, the lat longs seem to be accurate https://account.divvybikes.com/map.\n",
    "But this seems like a lot of start / stop places, lets see if we can identify stations."
   ]
  },
  {
   "cell_type": "code",
   "execution_count": null,
   "id": "5dd20b7f-3d83-4609-a4bd-88e44022b647",
   "metadata": {
    "tags": []
   },
   "outputs": [],
   "source": [
    "df.hvplot.points(x='start_lng', y='start_lat', geo=True, tiles=\"CartoDark\", rasterize=True, width=700, height=600)"
   ]
  },
  {
   "cell_type": "code",
   "execution_count": null,
   "id": "a84771ef-1bec-4291-a983-a4f110cafa66",
   "metadata": {
    "tags": []
   },
   "outputs": [],
   "source": [
    "df['start_station_id'].unique()\n"
   ]
  },
  {
   "cell_type": "code",
   "execution_count": null,
   "id": "0cb6079d-a99b-43da-8a96-a59b391c4bd8",
   "metadata": {
    "tags": []
   },
   "outputs": [],
   "source": [
    "df['start_lat'].round(4).unique()\n"
   ]
  },
  {
   "cell_type": "markdown",
   "id": "23db5f33-d78f-437e-a335-2822be248d51",
   "metadata": {
    "tags": []
   },
   "source": [
    "So there are obviously many more starting points than stations, so it must be that the bikes do not have to start and stop at a station. We will have to find a way to bin the start stop locations into a reasonable number."
   ]
  },
  {
   "cell_type": "code",
   "execution_count": null,
   "id": "3e287d6a-ee14-49aa-a40e-26091f39cd43",
   "metadata": {
    "tags": []
   },
   "outputs": [],
   "source": [
    "# Create a cuSpatial GeoSeries from the latitude and longitude columns\n",
    "start_points = cuspatial.GeoSeries.from_points_xy(df[['start_lng','start_lat']].interleave_columns().astype(\"float64\"))\n",
    "end_points = cuspatial.GeoSeries.from_points_xy(df[['end_lng','end_lat']].interleave_columns().astype(\"float64\"))\n"
   ]
  },
  {
   "cell_type": "code",
   "execution_count": null,
   "id": "389f4165-b3ca-46d5-a6a3-31091194e1b4",
   "metadata": {
    "tags": []
   },
   "outputs": [],
   "source": [
    "distances_in_km = cuspatial.haversine_distance(start_points, end_points)\n",
    "distances_in_km"
   ]
  },
  {
   "cell_type": "code",
   "execution_count": null,
   "id": "e08d7de7-1449-4a34-9d9a-b16c90d61394",
   "metadata": {
    "tags": []
   },
   "outputs": [],
   "source": [
    "# add the distances back into the dataframe, rounding values to make it more obvious if the stopped at the same place it started\n",
    "dist_m = cudf.Series(distances_in_km).values * 1000\n",
    "df['dist_m'] = dist_m.round().astype('int16')\n",
    "df"
   ]
  },
  {
   "cell_type": "code",
   "execution_count": null,
   "id": "5d52123a-ddab-4108-a95d-10305a4fb2a6",
   "metadata": {
    "tags": []
   },
   "outputs": [],
   "source": [
    "# Define the extent of the spatial data\n",
    "\n",
    "min_lat = min(df['start_lat'].min(), df['end_lat'].min())\n",
    "max_lat = max(df['start_lat'].max(), df['end_lat'].max())\n",
    "\n",
    "min_lng = min(df['start_lng'].min(), df['end_lng'].min())\n",
    "max_lng = max(df['start_lng'].max(), df['end_lng'].max())\n",
    "\n",
    "\n",
    "# Define the grid cell size or resolution, at 0.001 its about the size of a big city block\n",
    "cell_size = 0.001\n",
    "\n",
    "# Calculate the cell_row and cell_column values for each row in the DataFrame\n",
    "latcol = ((df['start_lat'] - min_lat) / cell_size).astype(int)\n",
    "latrow = ((df['start_lng'] - min_lng) / cell_size).astype(int)\n",
    "\n",
    "lngcol = ((df['end_lat'] - min_lat) / cell_size).astype(int)\n",
    "lngrow = ((df['end_lng'] - min_lng) / cell_size).astype(int)\n",
    "\n",
    "# Create the ID, keeping it int to reduce size\n",
    "df['start_grid_id'] = (latcol + (latrow * 1000)).astype('int32')\n",
    "df['end_grid_id'] = (lngcol + (lngrow * 1000)).astype('int32')\n"
   ]
  },
  {
   "cell_type": "code",
   "execution_count": null,
   "id": "1a6822c6-d010-4719-9d61-9f140915f874",
   "metadata": {
    "tags": []
   },
   "outputs": [],
   "source": [
    "# Starting to get a big messy, lets clean it up\n",
    "df = df.drop(['index','ride_id','started_at','ended_at','start_station_name','end_station_name','start_station_id','end_station_id'], axis=1)\n"
   ]
  },
  {
   "cell_type": "code",
   "execution_count": null,
   "id": "dead3593-c34d-4bf2-981b-5ee5d8723b41",
   "metadata": {
    "tags": []
   },
   "outputs": [],
   "source": [
    "df"
   ]
  },
  {
   "cell_type": "code",
   "execution_count": null,
   "id": "5867047a-0e96-403f-a07d-aee6acceedb0",
   "metadata": {
    "tags": []
   },
   "outputs": [],
   "source": [
    "df_f32 = df[['start_lat','start_lng','end_lat','end_lng']].astype('float32')\n"
   ]
  },
  {
   "cell_type": "code",
   "execution_count": null,
   "id": "7506b2bd-d9e1-4a52-9286-a96055aa7349",
   "metadata": {
    "tags": []
   },
   "outputs": [],
   "source": [
    "df = df.drop(['start_lat','start_lng','end_lat','end_lng'],axis=1)"
   ]
  },
  {
   "cell_type": "code",
   "execution_count": null,
   "id": "dcb02a9c-dafb-44f3-a2a4-2d8543cff372",
   "metadata": {
    "tags": []
   },
   "outputs": [],
   "source": [
    "df = cudf.concat([df,df_f32], axis=1)\n",
    "df"
   ]
  },
  {
   "cell_type": "code",
   "execution_count": null,
   "id": "e689a8f7-d7a4-44b5-9085-021492adb858",
   "metadata": {
    "tags": []
   },
   "outputs": [],
   "source": [
    "# check dtypes\n",
    "df.dtypes"
   ]
  },
  {
   "cell_type": "code",
   "execution_count": null,
   "id": "547dab49-0a64-4130-9c02-3dfde64b007e",
   "metadata": {
    "tags": []
   },
   "outputs": [],
   "source": [
    "## Save current state of dataframe\n",
    "df.to_parquet('./data/bike_df_clean.parquet')\n"
   ]
  },
  {
   "cell_type": "code",
   "execution_count": null,
   "id": "0465dc8d-232b-4cd7-a5f8-2ada612b275f",
   "metadata": {
    "tags": []
   },
   "outputs": [],
   "source": [
    "# NOTE: Try with NIGHTLY after datatiles dropped\n",
    "\n",
    "# Specify the charts and widgets to use with the selected columns of data and string maps\n",
    "cux_df = cuxfilter.DataFrame.from_dataframe(df)\n",
    "\n",
    "#creating a label map for days of week strings\n",
    "days_of_week_map = {\n",
    "    0: 'M',\n",
    "    1: 'T',\n",
    "    2: 'W',\n",
    "    3: 'Th',\n",
    "    4: 'F',\n",
    "    5: 'Sa',\n",
    "    6: 'Su',\n",
    "    7: 'Unknown'\n",
    "}\n",
    "\n",
    "month_of_year = {\n",
    "    1: 'Jan',\n",
    "    2: 'Feb',\n",
    "    3: 'Mar',\n",
    "    4: 'Apr',\n",
    "    5: 'May',\n",
    "    6: 'Jun',\n",
    "    7: 'Jul',\n",
    "    8: 'Aug',\n",
    "    9: 'Sep',\n",
    "    10: 'Oct',\n",
    "    11: 'Nov',\n",
    "    12: 'Dec'\n",
    "}\n",
    "\n",
    "\n",
    "charts = [\n",
    "    cuxfilter.charts.bar('dist_m', data_points=10 , title='Distance in M'),\n",
    "    cuxfilter.charts.bar('dur_min', data_points=10 , title='Duration in Min'),\n",
    "    cuxfilter.charts.bar('day_of_week', x_label_map=days_of_week_map, title='Day of Week'),\n",
    "    cuxfilter.charts.bar('hour', title='Trips per Hour'),\n",
    "    cuxfilter.charts.bar('day', title='Trips per Day'),\n",
    "    #cuxfilter.charts.bar('year', title='Trips per Year') #wait until loading larger datasets / datatiles removed\n",
    "]\n",
    "\n",
    "## FIX-NOTE: wait until datatiles removed\n",
    "\"\"\"\n",
    "widgets = [\n",
    "    cuxfilter.charts.multi_select('member_casual', label_map=member_map),\n",
    "    cuxfilter.charts.multi_select('rideable_type', label_map=bike_map)\n",
    "]\n",
    "\"\"\"\n",
    "\n",
    "# Generate the dashboard and select a layout\n",
    "d = cux_df.dashboard(charts, layout=cuxfilter.layouts.two_by_three, theme=cuxfilter.themes.rapids, title='Bike Trips Dashboard')\n",
    "\n",
    "# Update the yaxis ticker to an easily readable format\n",
    "for i in charts:\n",
    "    if hasattr(i.chart, 'yaxis'):\n",
    "        i.chart.yaxis.formatter = NumeralTickFormatter(format=\"0,0\")\n",
    "\n"
   ]
  },
  {
   "cell_type": "code",
   "execution_count": null,
   "id": "061cafd9-e4b1-42d8-a034-cfaabff2dbb3",
   "metadata": {},
   "outputs": [],
   "source": [
    "# FIX-NOTE: adding extension here explicitly RELOADS bokeh and all plots will work\n",
    "hvplot.extension('bokeh')\n",
    "\n",
    "# show is for seperate dashboard, await d.preview() is to generate an inline image preview, d.app() shows the app inline\n",
    "d.show()\n"
   ]
  },
  {
   "cell_type": "code",
   "execution_count": null,
   "id": "137015ea-119d-4bbb-9ecc-fbf019ca8d25",
   "metadata": {
    "tags": []
   },
   "outputs": [],
   "source": [
    "# FIX-NOTE: figure out why graph is too big still\n",
    "df_graph = df.head(500)\n",
    "df_graph"
   ]
  },
  {
   "cell_type": "code",
   "execution_count": null,
   "id": "d55ef8e4-63a5-4592-befc-628d4e0a9ab7",
   "metadata": {},
   "outputs": [],
   "source": [
    "G = cugraph.Graph() \n",
    "G.from_cudf_edgelist(df_graph, source='start_grid_id', destination='end_grid_id')\n",
    "edges = G.edges()\n",
    "edges"
   ]
  },
  {
   "cell_type": "code",
   "execution_count": null,
   "id": "4f5fd07d-ad19-4b8c-9988-71941e3b859c",
   "metadata": {},
   "outputs": [],
   "source": [
    "# FIX-NOTE: trying scatter for now\n",
    "# cux_df_geo = cuxfilter.DataFrame.load_graph((df_graph, edges))\n",
    "\n",
    "cux_df_geo = cuxfilter.DataFrame.from_dataframe(df)\n",
    "\n",
    "charts = [\n",
    "    cuxfilter.charts.scatter(\n",
    "        #node_id='start_grid_id',\n",
    "        x='start_lat',\n",
    "        y='start_lng',\n",
    "        #edge_source='src', edge_target='dst',\n",
    "        #node_aggregate_fn='count',\n",
    "        #node_pixel_shade_type='linear', node_point_size=10, #node size is fixed\n",
    "        #edge_render_type='direct', #other option: curved\n",
    "        #edge_transparency=0.5, #0.1 - 0.9\n",
    "        #unselected_alpha=0.5,\n",
    "        tile_provider='OSM',\n",
    "        title='Graph for trip source_stations (color by count)',\n",
    "        timeout=200\n",
    "    )]\n",
    "\n",
    "d = cux_df_geo.dashboard(charts, layout=cuxfilter.layouts.single_feature, theme=cuxfilter.themes.rapids, title='Geospatial Trips')"
   ]
  },
  {
   "cell_type": "code",
   "execution_count": null,
   "id": "1610e0a1-ece1-4fcf-8cae-1b119f3b4064",
   "metadata": {},
   "outputs": [],
   "source": [
    "# FIX-NOTE: adding extension here explicitly RELOADS bokeh and all plots will work\n",
    "hvplot.extension('bokeh')\n",
    "\n",
    "d.app()"
   ]
  },
  {
   "cell_type": "code",
   "execution_count": null,
   "id": "3ce00c94-3821-46ea-9c5f-d97f8a5af240",
   "metadata": {},
   "outputs": [],
   "source": []
  },
  {
   "cell_type": "code",
   "execution_count": null,
   "id": "e5badf2b-cf9a-4b40-93a2-7699c6aaef0d",
   "metadata": {
    "tags": []
   },
   "outputs": [],
   "source": [
    "## AJAY CODE\n",
    "\n",
    "df = cudf.read_parquet('./data/bike_df_clean.parquet')\n",
    "\n",
    "# 89,870 unique edges\n",
    "edges = df[['start_grid_id', 'end_grid_id']].drop_duplicates().reset_index(drop=True)\n",
    "\n",
    "# 140,052 unique nodes\n",
    "nodes = cudf.concat([\n",
    "    df[['start_grid_id', 'start_lat', 'start_lng']].rename(columns={'start_grid_id':'grid', 'start_lat':'lat', 'start_lng':'lng'}),\n",
    "    df[['end_grid_id', 'end_lat', 'end_lng']].rename(columns={'end_grid_id':'grid', 'end_lat':'lat', 'end_lng':'lng'})\n",
    "]).drop_duplicates().reset_index(drop=True)\n",
    "\n",
    "cux_df_geo = cuxfilter.DataFrame.load_graph((nodes, edges))\n",
    "\n",
    "charts = [cuxfilter.charts.graph(\n",
    "        node_id='grid',\n",
    "        node_x='lat',\n",
    "        node_y='lng',\n",
    "        edge_source='start_grid_id', edge_target='end_grid_id',\n",
    "        node_aggregate_fn='mean',\n",
    "        title='Graph for trip source_stations (color by count)',\n",
    "    )]\n",
    "\n",
    "d = cux_df_geo.dashboard(charts, layout=cuxfilter.layouts.single_feature, theme=cuxfilter.themes.rapids, title='Geospatial Trips')\n",
    "\n",
    "d.app()"
   ]
  },
  {
   "cell_type": "code",
   "execution_count": null,
   "id": "5bcfbd77-3b3f-4085-856e-de7700f1c3d2",
   "metadata": {},
   "outputs": [],
   "source": [
    "# Specifying a graph chart type will use Datashader and its required parameters\n",
    "'''\n",
    "charts = [\n",
    "    cuxfilter.charts.graph(\n",
    "        node_id='start_grid_id',\n",
    "        edge_source='src', edge_target='dst',\n",
    "        node_aggregate_fn='count',\n",
    "        node_pixel_shade_type='linear', node_point_size=35, #node size is fixed\n",
    "        edge_render_type='curved', #other option: direct\n",
    "        edge_transparency=0.7, #0.1 - 0.9\n",
    "        tile_provider='CARTODBPOSITRON', \n",
    "        title='Graph for trip source_stations (color by count)'\n",
    "    ),\n",
    "    cuxfilter.charts.graph(\n",
    "        node_id='end_grid_id',\n",
    "        edge_source='src', edge_target='dst',\n",
    "        node_aggregate_fn='count',\n",
    "        node_pixel_shade_type='linear', node_point_size=35, #node size is fixed\n",
    "        edge_render_type='direct', #other option: direct\n",
    "        edge_transparency=0.7, #0.1 - 0.9\n",
    "        tile_provider='CARTODBPOSITRON', \n",
    "        title='Graph for trip source_stations (color by count)'\n",
    "    ),\n",
    "    cuxfilter.charts.bar('duration_min', data_points=10 , title='Duration in Min'),\n",
    "    cuxfilter.charts.bar('day_of_week', x_label_map=days_of_week_map, title='Day of Week'),\n",
    "    cuxfilter.charts.bar('hour', title='Trips per Hour'),\n",
    "    cuxfilter.charts.view_dataframe(['rideable_type', 'member_casual','ride_id'], drop_duplicates=True)\n",
    "]\n",
    "\n",
    "# Generate the dashboard, select a layout and theme\n",
    "d = cux_df_geo.dashboard(charts, layout=cuxfilter.layouts.double_feature_quad_base, theme=cuxfilter.themes.rapids, title='Geospatial Trips')\n",
    "\n",
    "# Update the yaxis ticker to an easily readable format\n",
    "for i in charts:\n",
    "    if hasattr(i.chart, 'yaxis'):\n",
    "        i.chart.yaxis.formatter = NumeralTickFormatter(format=\"0,0\")\n",
    "        \n",
    "d.show()\n",
    "'''"
   ]
  },
  {
   "cell_type": "markdown",
   "id": "55c6d356-4bf5-457c-8e27-a84d08a189b1",
   "metadata": {
    "editable": true,
    "slideshow": {
     "slide_type": ""
    },
    "tags": []
   },
   "source": [
    "## To Do Outline\n",
    "- cuGraph PageRank leave, PageRank arrive\n",
    "- Add Plotly Dash chart\n",
    "\n",
    "Issues:\n",
    "- juplyter lab needs to be 3.6.4\n",
    "- FIX: use latest cuxfilter so can filter by string category\n",
    "- FIX: cuxfilter / hvplot bokeh.js assets bug\n",
    "- Issue: graph OOMing somehow (bug in cuxfilter percision) + optimzied node / edges with unique"
   ]
  },
  {
   "cell_type": "code",
   "execution_count": null,
   "id": "34ab6afb-5216-4af5-b3ca-1aec3f7a2252",
   "metadata": {},
   "outputs": [],
   "source": []
  }
 ],
 "metadata": {
  "kernelspec": {
   "display_name": "Python 3 (ipykernel)",
   "language": "python",
   "name": "python3"
  },
  "language_info": {
   "codemirror_mode": {
    "name": "ipython",
    "version": 3
   },
   "file_extension": ".py",
   "mimetype": "text/x-python",
   "name": "python",
   "nbconvert_exporter": "python",
   "pygments_lexer": "ipython3",
   "version": "3.10.11"
  }
 },
 "nbformat": 4,
 "nbformat_minor": 5
}
